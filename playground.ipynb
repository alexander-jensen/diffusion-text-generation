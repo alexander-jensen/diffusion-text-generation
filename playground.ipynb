{
 "cells": [
  {
   "cell_type": "code",
   "execution_count": null,
   "id": "e9d47e9f",
   "metadata": {},
   "outputs": [],
   "source": [
    "# pip install datasets --user"
   ]
  },
  {
   "cell_type": "code",
   "execution_count": 1,
   "id": "e25ea863",
   "metadata": {},
   "outputs": [
    {
     "name": "stderr",
     "output_type": "stream",
     "text": [
      "2024-02-07 11:40:33.668637: I tensorflow/core/platform/cpu_feature_guard.cc:182] This TensorFlow binary is optimized to use available CPU instructions in performance-critical operations.\n",
      "To enable the following instructions: AVX2 FMA, in other operations, rebuild TensorFlow with the appropriate compiler flags.\n",
      "/opt/conda/lib/python3.9/site-packages/scipy/__init__.py:146: UserWarning: A NumPy version >=1.16.5 and <1.23.0 is required for this version of SciPy (detected version 1.26.3\n",
      "  warnings.warn(f\"A NumPy version >={np_minversion} and <{np_maxversion}\"\n"
     ]
    }
   ],
   "source": [
    "from run_train import create_model_and_diffusion\n",
    "from utils.step_sample import create_named_schedule_sampler\n",
    "from train import TrainLoop\n",
    "from utils.data import load_data_text\n",
    "from tokenizer import load_tokenizer, load_model_emb\n",
    "from sampling import sampling\n",
    "\n",
    "from transformers import AutoTokenizer, PreTrainedTokenizerFast, BertTokenizerFast, set_seed\n",
    "import json, torch, os\n",
    "from utils import dist_util\n",
    "from functools import partial\n",
    "import pickle\n",
    "import random"
   ]
  },
  {
   "cell_type": "code",
   "execution_count": 2,
   "id": "419eea88",
   "metadata": {},
   "outputs": [],
   "source": [
    "# with open('vocab_list.pickle', 'rb') as handle:\n",
    "#     vocab_list = pickle.load(handle)\n",
    "# vocab_list = list(vocab_list.values())"
   ]
  },
  {
   "cell_type": "code",
   "execution_count": 3,
   "id": "c7cd8af7",
   "metadata": {},
   "outputs": [],
   "source": [
    "dist_util.clear_cache()"
   ]
  },
  {
   "cell_type": "code",
   "execution_count": 4,
   "id": "5fb13702",
   "metadata": {},
   "outputs": [],
   "source": [
    "lr=0.0001\n",
    "batch_size=10\n",
    "microbatch=5\n",
    "epochs=100\n",
    "eval_interval=1000\n",
    "ema_rate='0.9999' \n",
    "schedule_sampler='uniform'\n",
    "diffusion_steps=1000\n",
    "noise_schedule='sqrt'\n",
    "vocab='custom'\n",
    "use_plm_init='no' # embedding in transformer\n",
    "vocab_size=0\n",
    "config_name='bert-base-uncased'\n",
    "seq_len=500\n",
    "hidden_t_dim=128\n",
    "hidden_dim=128\n",
    "dropout=0.1\n",
    "seed=102\n",
    "weight_decay=0.0\n",
    "predict_xstart=True\n",
    "rescale_timesteps=True\n",
    "emb_scale_factor=1.0"
   ]
  },
  {
   "cell_type": "code",
   "execution_count": 5,
   "id": "51cfcd12-4b84-4df7-827d-25c879230bfd",
   "metadata": {},
   "outputs": [],
   "source": [
    "cc_data_dir='data/commonsense'\n",
    "ss_data_dir='data/shakespeare'\n",
    "ss_small_data_dir='data/mini-shakespeare'\n",
    "combined_data_dir='data/combined'\n",
    "regular_data_dir='data'\n",
    "\n",
    "# set the data directory\n",
    "data_dir=regular_data_dir"
   ]
  },
  {
   "cell_type": "code",
   "execution_count": 6,
   "id": "ffa896cd-2b1c-4ffe-8dbc-6fe4bc03ecb3",
   "metadata": {},
   "outputs": [],
   "source": [
    "set_seed(seed)"
   ]
  },
  {
   "cell_type": "code",
   "execution_count": 7,
   "id": "7f06dee7",
   "metadata": {},
   "outputs": [],
   "source": [
    "tokenizer = load_tokenizer('shakespeare', config_name)"
   ]
  },
  {
   "cell_type": "code",
   "execution_count": 8,
   "id": "dbd3fbfe",
   "metadata": {},
   "outputs": [
    {
     "data": {
      "text/plain": [
       "30473"
      ]
     },
     "execution_count": 8,
     "metadata": {},
     "output_type": "execute_result"
    }
   ],
   "source": [
    "tokenizer.vocab_size"
   ]
  },
  {
   "cell_type": "code",
   "execution_count": 9,
   "id": "1701606f-3211-4741-a7f4-bc4ee146c4f7",
   "metadata": {},
   "outputs": [
    {
     "data": {
      "text/plain": [
       "[2, 611, 139, 26, 413, 121, 3021, 649, 94, 7338, 3]"
      ]
     },
     "execution_count": 9,
     "metadata": {},
     "output_type": "execute_result"
    }
   ],
   "source": [
    "tokenizer.encode_token('find we a time for fright peace to pant')"
   ]
  },
  {
   "cell_type": "code",
   "execution_count": 10,
   "id": "3256f999",
   "metadata": {},
   "outputs": [],
   "source": [
    "model_weight, tokenizer = load_model_emb(hidden_dim, tokenizer)"
   ]
  },
  {
   "cell_type": "code",
   "execution_count": 11,
   "id": "5366e001",
   "metadata": {},
   "outputs": [
    {
     "data": {
      "text/plain": [
       "Embedding(30473, 128)"
      ]
     },
     "execution_count": 11,
     "metadata": {},
     "output_type": "execute_result"
    }
   ],
   "source": [
    "model_weight"
   ]
  },
  {
   "cell_type": "code",
   "execution_count": 12,
   "id": "2542d933",
   "metadata": {},
   "outputs": [],
   "source": [
    "## very very important to set this!!!!!\n",
    "vocab_size = tokenizer.vocab_size"
   ]
  },
  {
   "cell_type": "code",
   "execution_count": 13,
   "id": "45543e37",
   "metadata": {},
   "outputs": [
    {
     "data": {
      "text/plain": [
       "30473"
      ]
     },
     "execution_count": 13,
     "metadata": {},
     "output_type": "execute_result"
    }
   ],
   "source": [
    "vocab_size"
   ]
  },
  {
   "cell_type": "code",
   "execution_count": 14,
   "id": "5cc4920c",
   "metadata": {
    "scrolled": true,
    "tags": []
   },
   "outputs": [
    {
     "name": "stdout",
     "output_type": "stream",
     "text": [
      "############################## \n",
      "Loading text data...\n",
      "############################## \n",
      "Loading dataset from data...\n",
      "### Loading form the TRAIN set...\n",
      "### Data samples...\n",
      " [\"proceed solinus to procure my fall <EOS> and by the doom of death end woes and all <EOS> therefore give out you are of epidamnum <EOS> lest that your goods too soon be confiscate <EOS> this very day a syracusian merchant <EOS> is apprehended for arrival here <EOS> and not be able to buy out his life <EOS> accord to the statute of the town <EOS> dies ere the weary sun set in the west <EOS> there is your money that i had to keep <EOS> antipholus <EOS> neither my husband nor the slave return'd <EOS> that in such haste i sent to seek his master! <EOS> sure luciana it is two o'clock <EOS> the gold i gave to dromio is laid up <EOS> safe at the centaur and the heedful slave <EOS> is wander'd forth in care to seek me out <EOS> by computation and mine host's report <EOS> i could not speak with dromio since at first <EOS> i sent him from the mart <EOS> see here he comes <EOS> enter dromio of syracuse <EOS> how now sir! is your merry humour alter'd? <EOS> as you love strokes so jest with me again <EOS> you know no centaur? you received no gold? <EOS> your mistress sent to have me home to dinner? <EOS> my house was at the phoenix? wast thou mad <EOS> that thus so madly thou didst answer me? <EOS> good signior angelo you must excuse us all <EOS> my wife is shrewish when i keep not hours: <EOS> say that i linger'd with you at your shop <EOS> to see the mak of her carcanet <EOS> and that to-morrow you will br it home <EOS> but here's a villain that would face me down <EOS> he met me on the mart and that i beat him <EOS> and charged him with a thousand marks in gold <EOS> and that i did deny my wife and house <EOS> thou drunkard thou what didst thou mean by this? <EOS> and may it be that you have quite forgot <EOS> a husband's office? shall antipholus <EOS> even in the spr of love thy love-springs rot? <EOS> shall love in build grow so ruinous? <EOS> if you did wed my sister for her wealth <EOS> then for her wealth's sake use her with more kindness: <EOS> or if you like elsewhere do it by stealth <EOS> muffle your false love with some show of blindness: <EOS> let not my sister read it in your eye <EOS> be not thy tongue thy own shame's orator <EOS> look sweet be fair become disloyalty <EOS> apparel vice like virtue's harbinger <EOS> bear a fair presence though your heart be tainted <EOS> teach sin the carriage of a holy saint <EOS> be secret-false: what need she be acquainted? <EOS> what simple thief brags of his own attaint? <EOS> 'tis double wrong to truant with your bed <EOS> and let her read it in thy looks at board: <EOS> shame hath a bastard fame well managed <EOS> ill d eeds are doubled with an evil word <EOS> alas poor women! make us but believe <EOS> be compact of credit that you love us <EOS> though others have the arm show us the sleeve <EOS> we in your motion turn and you may move us <EOS> then gentle brother get you in again <EOS> comfort my sister cheer her call her wife: <EOS> 'tis holy sport to be a little vain <EOS> when the sweet breath of flattery conquers strife <EOS> antipholus <EOS> you know since pentecost the sum is due <EOS> and since i have not much importuned you <EOS> nor now i had not but that i am bound <EOS> to persia and want guilders for my voyage: <EOS> therefore make present satisfaction <EOS> or i'll attach you by this officer <EOS> ah luciana did he tempt thee so? <EOS> mightst thou perceive austerely in his eye <EOS> that he did plead in earnest? yea or no? <EOS> look'd he or red or pale or sad or merrily? <EOS> what observation madest thou in this case <EOS> of his heart's meteors tilt in his face? <EOS> there's not a man i meet but doth salute me <EOS> as if i were their well-acquainted friend <EOS> and every one doth call me by my name <EOS> some tender money to me some invite me <EOS> some other give me thanks for kindnesses <EOS> some offer me commodities to buy: <EOS> even now a tailor call'd me in his shop <EOS> and show'd me silks that he had bought for me <EOS> and therewithal took measure of my body <EOS> sure these are but imaginary wiles <EOS> and lapland sorcerers inhabit here <EOS> enter dromio of syracuse <EOS> fear me not man i will not break away: <EOS> i'll give thee ere i leave thee so much money <EOS> to warrant thee as i am 'rested for <EOS> my wife is in a wayward mood to-day <EOS> and will not lightly trust the messenger <EOS> that i should be attach'd in ephesus <EOS> i tell you 'twill sound harshly in her ears <EOS> enter dromio of ephesus with a rope's-end <EOS> here comes my man i think he brings the money <EOS> how now sir! have you that i sent you for? <EOS> i am sorry sir that i have hinder'd you <EOS> but i protest he had the chain of me <EOS> though most dishonestly he doth deny it <EOS>  merchant of syracuse plead no more <EOS> i am not partial to infringe our laws: <EOS> the enmity and discord which of late <EOS> sprung from the rancorous outrage of your duke <EOS> to merchants our well-deal countrymen <EOS> who want guilders to redeem their lives <EOS> have seal'd his rigorous statutes with their bloods <EOS> excludes all pity from our threaten looks <EOS> for since the mortal and intestine jars <EOS> 'twixt thy seditious countrymen and us <EOS> it hath in solemn synods been decreed <EOS> both by the syracusians and ourselves <EOS> to admit no traffic to our adverse towns nay more <EOS> if any born at ephesus be seen <EOS> at any syracusian marts and fairs <EOS> again: if any syracusian born <EOS> come to the bay of ephesus he dies <EOS> his goods confiscate to the duke's dispose <EOS> unless a thousand marks be levied <EOS> to quit the penalty and to ransom him <EOS> thy substance valued at the highest rate <EOS> cannot amount unto a hundred marks <EOS> therefore by law thou art condemned to die <EOS> go bear it to the centaur where we host <EOS> and stay there dromio till i come to thee <EOS> within this hour it will be dinner-time: <EOS> till that i'll view the manners of the town <EOS> peruse the traders gaze upon the buildings <EOS> and then return and sleep within mine inn <EOS> for with long travel i am stiff and weary <EOS> get thee away <EOS> perhaps some merchant hath invited him <EOS> and from the mart he's somewhere gone to dinner <EOS> good sister let us dine and never fret: <EOS> a man is master of his liberty: <EOS> time is their master and when they see time <EOS> they'll go or come: if so be patient sister <EOS> what answer sir? when spake i such a word? <EOS> antipholus <EOS> say what you will sir but i know what i know <EOS> that you beat me at the mart i have your hand to show: <EOS> if the skin were parchment and the blows you gave were ink <EOS> your own handwrit would tell you what i think <EOS> antipholus <EOS> sweet mistress--what your name is else i know not <EOS> nor by what wonder you do hit of mine-- <EOS> less in your knowledge and your grace you show not <EOS> than our earth's wonder more than earth divine <EOS> teach me dear creature how to think and speak <EOS> lay open to my earthy-gross conceit <EOS> smother'd in errors feeble shallow weak <EOS> the folded mean of your words' deceit <EOS> against my soul's pure truth why labour you <EOS> to make it wander in an unknown field? <EOS> are you a god? would you create me new? <EOS> transform me then and to your power i'll yield <EOS> but if that i am i then well i know <EOS> your weep sister is no wife of mine <EOS> nor to her bed no homage do i owe <EOS> far more far more to you do i decline <EOS> o train me not sweet mermaid with thy note <EOS> to drown me in thy sister's flood of tears: <EOS> s siren for thyself and i will dote: <EOS> spread o'er the silver waves thy golden hairs <EOS> and as a bed i'll take them and there lie <EOS> and in that glorious supposition think <EOS> he gains by death that hath such means to die: <EOS> let love be light be drowned if she sink! <EOS> even just the sum that i do owe to you <EOS> is grow to me by antipholus <EOS> and in the instant that i met with you <EOS> he had of me a chain: at five o'clock <EOS> i shall receive the money for the same <EOS> pleaseth you walk with me down to his house <EOS> i will discharge my bond and thank you too <EOS> enter antipholus of ephesus and dromio of ephesus from the courtezan's <EOS> first he denied you had in him no right <EOS> master here's the gold you sent me for <EOS> what have <EOS> you got the picture of old adam new-apparelled? <EOS> antipholus <EOS> here's that i warrant you will pay them all <EOS> antipholus <EOS> how is the man esteemed here in the city? <EOS>  yet this my comfort: when your words are done <EOS> my woes end likewise with the even sun <EOS> many a man would take you at your word <EOS> and go indeed hav so good a mean <EOS> exit <EOS> antipholus <EOS> why should their liberty than ours be more? <EOS> even now even here not half an hour since <EOS> i think thou art an ass <EOS> what are you mad that you do reason so? <EOS> antipholus <EOS> that labour may you save: see where he comes <EOS> antipholus <EOS> he meant he did me none the more my spite <EOS> what gold is this? what adam dost thou mean? <EOS> but where's the money? <EOS> of very reverend reputation sir <EOS> of credit infinite highly beloved <EOS> second to none that lives here in the city: <EOS> his word might bear my wealth at any time <EOS>\", \"merchant of syracuse plead no more <EOS> i am not partial to infringe our laws: <EOS> the enmity and discord which of late <EOS> sprung from the rancorous outrage of your duke <EOS> to merchants our well-deal countrymen <EOS> who want guilders to redeem their lives <EOS> have seal'd his rigorous statutes with their bloods <EOS> excludes all pity from our threaten looks <EOS> for since the mortal and intestine jars <EOS> 'twixt thy seditious countrymen and us <EOS> it hath in solemn synods been decreed <EOS> both by the syracusians and ourselves <EOS> to admit no traffic to our adverse towns nay more <EOS> if any born at ephesus be seen <EOS> at any syracusian marts and fairs <EOS> again: if any syracusian born <EOS> come to the bay of ephesus he dies <EOS> his goods confiscate to the duke's dispose <EOS> unless a thousand marks be levied <EOS> to quit the penalty and to ransom him <EOS> thy substance valued at the highest rate <EOS> cannot amount unto a hundred marks <EOS> therefore by law thou art condemned to die <EOS> go bear it to the centaur where we host <EOS> and stay there dromio till i come to thee <EOS> within this hour it will be dinner-time: <EOS> till that i'll view the manners of the town <EOS> peruse the traders gaze upon the buildings <EOS> and then return and sleep within mine inn <EOS> for with long travel i am stiff and weary <EOS> get thee away <EOS> perhaps some merchant hath invited him <EOS> and from the mart he's somewhere gone to dinner <EOS> good sister let us dine and never fret: <EOS> a man is master of his liberty: <EOS> time is their master and when they see time <EOS> they'll go or come: if so be patient sister <EOS> what answer sir? when spake i such a word? <EOS> antipholus <EOS> say what you will sir but i know what i know <EOS> that you beat me at the mart i have your hand to show: <EOS> if the skin were parchment and the blows you gave were ink <EOS> your own handwrit would tell you what i think <EOS> antipholus <EOS> sweet mistress--what your name is else i know not <EOS> nor by what wonder you do hit of mine-- <EOS> less in your knowledge and your grace you show not <EOS> than our earth's wonder more than earth divine <EOS> teach me dear creature how to think and speak <EOS> lay open to my earthy-gross conceit <EOS> smother'd in errors feeble shallow weak <EOS> the folded mean of your words' deceit <EOS> against my soul's pure truth why labour you <EOS> to make it wander in an unknown field? <EOS> are you a god? would you create me new? <EOS> transform me then and to your power i'll yield <EOS> but if that i am i then well i know <EOS> your weep sister is no wife of mine <EOS> nor to her bed no homage do i owe <EOS> far more far more to you do i decline <EOS> o train me not sweet mermaid with thy note <EOS> to drown me in thy sister's flood of tears: <EOS> s siren for thyself and i will dote: <EOS> spread o'er the silver waves thy golden hairs <EOS> and as a bed i'll take them and there lie <EOS> and in that glorious supposition think <EOS> he gains by death that hath such means to die: <EOS> let love be light be drowned if she sink! <EOS> even just the sum that i do owe to you <EOS> is grow to me by antipholus <EOS> and in the instant that i met with you <EOS> he had of me a chain: at five o'clock <EOS> i shall receive the money for the same <EOS> pleaseth you walk with me down to his house <EOS> i will discharge my bond and thank you too <EOS> enter antipholus of ephesus and dromio of ephesus from the courtezan's <EOS> first he denied you had in him no right <EOS> master here's the gold you sent me for <EOS> what have <EOS> you got the picture of old adam new-apparelled? <EOS> antipholus <EOS> here's that i warrant you will pay them all <EOS> antipholus <EOS> how is the man esteemed here in the city? <EOS>  yet this my comfort: when your words are done <EOS> my woes end likewise with the even sun <EOS> many a man would take you at your word <EOS> and go indeed hav so good a mean <EOS> exit <EOS> antipholus <EOS> why should their liberty than ours be more? <EOS> even now even here not half an hour since <EOS> i think thou art an ass <EOS> what are you mad that you do reason so? <EOS> antipholus <EOS> that labour may you save: see where he comes <EOS> antipholus <EOS> he meant he did me none the more my spite <EOS> what gold is this? what adam dost thou mean? <EOS> but where's the money? <EOS> of very reverend reputation sir <EOS> of credit infinite highly beloved <EOS> second to none that lives here in the city: <EOS> his word might bear my wealth at any time <EOS>  well syracusian say in brief the cause <EOS> why thou departed'st from thy native home <EOS> and for what cause thou camest to ephesus <EOS> a trusty villain sir that very oft <EOS> when i am dull with care and melancholy <EOS> lightens my humour with his merry jests <EOS> what will you walk with me about the town <EOS> and then go to my inn and dine with me? <EOS> because their business still lies out o' door <EOS> i did not see you since you sent me hence <EOS> home to the centaur with the gold you gave me <EOS> antipholus <EOS> marry so it doth appear <EOS> by the wrongs i suffer and the blows i bear <EOS> i should kick be kick'd and be at that pass <EOS> you would keep from my heels and beware of an ass <EOS> antipholus <EOS> not mad but mated how i do not know <EOS> while i go to the goldsmith's house go thou <EOS> and buy a rope's end: that will i bestow <EOS> among my wife and her confederates <EOS> for lock me out of my doors by day <EOS> but soft! i see the goldsmith <EOS> get thee gone <EOS> buy thou a rope and br it home to me <EOS> then swore he that he was a stranger here <EOS> not that adam that kept the paradise but that adam <EOS> that keeps the prison: he that goes in the calf's <EOS> skin that was killed for the prodigal he that came <EOS> behind you sir like an evil angel and bid you <EOS> forsake your liberty <EOS> antipholus <EOS> why sir i gave the money for the rope <EOS> antipholus <EOS> speak softly yonder as i think he walks <EOS> enter antipholus of syracuse and dromio of syracuse <EOS>\"] [\"well syracusian say in brief the cause <EOS> why thou departed'st from thy native home <EOS> and for what cause thou camest to ephesus <EOS> a trusty villain sir that very oft <EOS> when i am dull with care and melancholy <EOS> lightens my humour with his merry jests <EOS> what will you walk with me about the town <EOS> and then go to my inn and dine with me? <EOS> because their business still lies out o' door <EOS> i did not see you since you sent me hence <EOS> home to the centaur with the gold you gave me <EOS> antipholus <EOS> marry so it doth appear <EOS> by the wrongs i suffer and the blows i bear <EOS> i should kick be kick'd and be at that pass <EOS> you would keep from my heels and beware of an ass <EOS> antipholus <EOS> not mad but mated how i do not know <EOS> while i go to the goldsmith's house go thou <EOS> and buy a rope's end: that will i bestow <EOS> among my wife and her confederates <EOS> for lock me out of my doors by day <EOS> but soft! i see the goldsmith <EOS> get thee gone <EOS> buy thou a rope and br it home to me <EOS> then swore he that he was a stranger here <EOS> not that adam that kept the paradise but that adam <EOS> that keeps the prison: he that goes in the calf's <EOS> skin that was killed for the prodigal he that came <EOS> behind you sir like an evil angel and bid you <EOS> forsake your liberty <EOS> antipholus <EOS> why sir i gave the money for the rope <EOS> antipholus <EOS> speak softly yonder as i think he walks <EOS> enter antipholus of syracuse and dromio of syracuse <EOS>  a heavier task could not have been imposed <EOS> than i to speak my griefs unspeakable: <EOS> yet that the world may witness that my end <EOS> was wrought by nature not by vile offence <EOS> i'll utter what my sorrows give me leave <EOS> in syracusa was i born and wed <EOS> unto a woman happy but for me <EOS> and by me had not our hap been bad <EOS> with her i lived in joy our wealth increased <EOS> by prosperous voyages i often made <EOS> to epidamnum till my factor's death <EOS> and the great care of goods at random left <EOS> drew me from kind embracements of my spouse: <EOS> from whom my absence was not six months old <EOS> before herself almost at faint under <EOS> the pleas punishment that women bear <EOS> had made provision for her follow me <EOS> and soon and safe arrived where i was <EOS> there had she not been long but she became <EOS> a joyful mother of two goodly sons <EOS> and which was strange the one so like the other <EOS> as could not be distinguish'd but by names <EOS> that very hour and in the self-same inn <EOS> a meaner woman was delivered <EOS> of such a burden male twins both alike: <EOS> those--for their parents were exceed poor-- <EOS> i bought and brought up to attend my sons <EOS> my wife not meanly proud of two such boys <EOS> made daily motions for our home return: <EOS> unwill i agreed <EOS> alas! too soon <EOS> we came aboard <EOS> a league from epidamnum had we sail'd <EOS> before the always wind-obey deep <EOS> gave any tragic instance of our harm: <EOS> but longer did we not retain much hope <EOS> for what obscured light the heavens did grant <EOS> did but convey unto our fearful minds <EOS> a doubtful warrant of immediate death <EOS> which though myself would gladly have embraced <EOS> yet the incessant weepings of my wife <EOS> weep before for what she saw must come <EOS> and piteous plainings of the pretty babes <EOS> that mourn'd for fashion ignorant what to fear <EOS> forced me to seek delays for them and me <EOS> and this it was for other means was none: <EOS> the sailors sought for safety by our boat <EOS> and left the ship then sink ripe to us: <EOS> my wife more careful for the latter-born <EOS> had fasten'd him unto a small spare mast <EOS> such as seafar men provide for storms <EOS> to him one of the other twins was bound <EOS> whilst i had been like heedful of the other: <EOS> the children thus disposed my wife and i <EOS> fix our eyes on whom our care was fix'd <EOS> fasten'd ourselves at either end the mast <EOS> and float straight obedient to the stream <EOS> was carried towards corinth as we thought <EOS> at length the sun gaz upon the earth <EOS> dispersed those vapours that offended us <EOS> and by the benefit of his wished light <EOS> the seas wax'd calm and we discovered <EOS> two ships from far mak amain to us <EOS> of corinth that of epidaurus this: <EOS> but ere they came--o let me say no more! <EOS> gather the sequel by that went before <EOS> i am invited sir to certain merchants <EOS> of whom i hope to make much benefit <EOS> i crave your pardon <EOS> soon at five o'clock <EOS> please you i'll meet with you upon the mart <EOS> and afterward consort you till bed-time: <EOS> my present business calls me from you now <EOS> antipholus <EOS> look when i serve him so he takes it ill <EOS> villain thou didst deny the gold's receipt <EOS> and told'st me of a mistress and a dinner <EOS> for which i hope thou felt'st i was displeased <EOS> you're sad signior balthazar: pray god our cheer <EOS> may answer my good will and your good welcome here <EOS> it is a fault that springeth from your eye <EOS> antipholus <EOS> i buy a thousand pound a year: i buy a rope <EOS> exit <EOS> antipholus <EOS> and true he swore though yet forsworn he were <EOS> i understand thee not <EOS> five hundred ducats villain for a rope? <EOS> 'tis so and that self chain about his neck <EOS> which he forswore most monstrously to have <EOS> good sir draw near to me i'll speak to him <EOS> signior antipholus i wonder much <EOS> that you would put me to this shame and trouble <EOS> and not without some scandal to yourself <EOS> with circumstance and oaths so to deny <EOS> this chain which now you wear so openly: <EOS> beside the charge the shame imprisonment <EOS> you have done wrong to this my honest friend <EOS> who but for stay on our controversy <EOS> had hoisted sail and put to sea to-day: <EOS> this chain you had of me can you deny it? <EOS> antipholus <EOS>  nay forward old man do not break off so <EOS> for we may pity though not pardon thee <EOS> farewell till then: i will go lose myself <EOS> and wander up and down to view the city <EOS> o know he is the bridle of your will <EOS> i am glad to see you in this merry vein: <EOS> what means this jest? i pray you master tell me <EOS> antipholus <EOS> i hold your dainties cheap sir and your <EOS> welcome dear <EOS> antipholus <EOS> for gaz on your beams fair sun be by <EOS> a man is well holp up that trusts to you: <EOS> i promised your presence and the chain <EOS> but neither chain nor goldsmith came to me <EOS> belike you thought our love would last too long <EOS> if it were chain'd together and therefore came not <EOS> then pleaded i for you <EOS> no? why 'tis a plain case: he that went like a <EOS> bass-viol in a case of leather the man sir <EOS> that when gentlemen are tired gives them a sob <EOS> and 'rests them he sir that takes pity on decayed <EOS> men and gives them suits of durance he that sets up <EOS> his rest to do more exploits with his mace than a <EOS> morris-pike <EOS> antipholus <EOS> i'll serve you sir five hundred at the rate <EOS> antipholus <EOS> i think i had i never did deny it <EOS>\", \"a heavier task could not have been imposed <EOS> than i to speak my griefs unspeakable: <EOS> yet that the world may witness that my end <EOS> was wrought by nature not by vile offence <EOS> i'll utter what my sorrows give me leave <EOS> in syracusa was i born and wed <EOS> unto a woman happy but for me <EOS> and by me had not our hap been bad <EOS> with her i lived in joy our wealth increased <EOS> by prosperous voyages i often made <EOS> to epidamnum till my factor's death <EOS> and the great care of goods at random left <EOS> drew me from kind embracements of my spouse: <EOS> from whom my absence was not six months old <EOS> before herself almost at faint under <EOS> the pleas punishment that women bear <EOS> had made provision for her follow me <EOS> and soon and safe arrived where i was <EOS> there had she not been long but she became <EOS> a joyful mother of two goodly sons <EOS> and which was strange the one so like the other <EOS> as could not be distinguish'd but by names <EOS> that very hour and in the self-same inn <EOS> a meaner woman was delivered <EOS> of such a burden male twins both alike: <EOS> those--for their parents were exceed poor-- <EOS> i bought and brought up to attend my sons <EOS> my wife not meanly proud of two such boys <EOS> made daily motions for our home return: <EOS> unwill i agreed <EOS> alas! too soon <EOS> we came aboard <EOS> a league from epidamnum had we sail'd <EOS> before the always wind-obey deep <EOS> gave any tragic instance of our harm: <EOS> but longer did we not retain much hope <EOS> for what obscured light the heavens did grant <EOS> did but convey unto our fearful minds <EOS> a doubtful warrant of immediate death <EOS> which though myself would gladly have embraced <EOS> yet the incessant weepings of my wife <EOS> weep before for what she saw must come <EOS> and piteous plainings of the pretty babes <EOS> that mourn'd for fashion ignorant what to fear <EOS> forced me to seek delays for them and me <EOS> and this it was for other means was none: <EOS> the sailors sought for safety by our boat <EOS> and left the ship then sink ripe to us: <EOS> my wife more careful for the latter-born <EOS> had fasten'd him unto a small spare mast <EOS> such as seafar men provide for storms <EOS> to him one of the other twins was bound <EOS> whilst i had been like heedful of the other: <EOS> the children thus disposed my wife and i <EOS> fix our eyes on whom our care was fix'd <EOS> fasten'd ourselves at either end the mast <EOS> and float straight obedient to the stream <EOS> was carried towards corinth as we thought <EOS> at length the sun gaz upon the earth <EOS> dispersed those vapours that offended us <EOS> and by the benefit of his wished light <EOS> the seas wax'd calm and we discovered <EOS> two ships from far mak amain to us <EOS> of corinth that of epidaurus this: <EOS> but ere they came--o let me say no more! <EOS> gather the sequel by that went before <EOS> i am invited sir to certain merchants <EOS> of whom i hope to make much benefit <EOS> i crave your pardon <EOS> soon at five o'clock <EOS> please you i'll meet with you upon the mart <EOS> and afterward consort you till bed-time: <EOS> my present business calls me from you now <EOS> antipholus <EOS> look when i serve him so he takes it ill <EOS> villain thou didst deny the gold's receipt <EOS> and told'st me of a mistress and a dinner <EOS> for which i hope thou felt'st i was displeased <EOS> you're sad signior balthazar: pray god our cheer <EOS> may answer my good will and your good welcome here <EOS> it is a fault that springeth from your eye <EOS> antipholus <EOS> i buy a thousand pound a year: i buy a rope <EOS> exit <EOS> antipholus <EOS> and true he swore though yet forsworn he were <EOS> i understand thee not <EOS> five hundred ducats villain for a rope? <EOS> 'tis so and that self chain about his neck <EOS> which he forswore most monstrously to have <EOS> good sir draw near to me i'll speak to him <EOS> signior antipholus i wonder much <EOS> that you would put me to this shame and trouble <EOS> and not without some scandal to yourself <EOS> with circumstance and oaths so to deny <EOS> this chain which now you wear so openly: <EOS> beside the charge the shame imprisonment <EOS> you have done wrong to this my honest friend <EOS> who but for stay on our controversy <EOS> had hoisted sail and put to sea to-day: <EOS> this chain you had of me can you deny it? <EOS> antipholus <EOS>  nay forward old man do not break off so <EOS> for we may pity though not pardon thee <EOS> farewell till then: i will go lose myself <EOS> and wander up and down to view the city <EOS> o know he is the bridle of your will <EOS> i am glad to see you in this merry vein: <EOS> what means this jest? i pray you master tell me <EOS> antipholus <EOS> i hold your dainties cheap sir and your <EOS> welcome dear <EOS> antipholus <EOS> for gaz on your beams fair sun be by <EOS> a man is well holp up that trusts to you: <EOS> i promised your presence and the chain <EOS> but neither chain nor goldsmith came to me <EOS> belike you thought our love would last too long <EOS> if it were chain'd together and therefore came not <EOS> then pleaded i for you <EOS> no? why 'tis a plain case: he that went like a <EOS> bass-viol in a case of leather the man sir <EOS> that when gentlemen are tired gives them a sob <EOS> and 'rests them he sir that takes pity on decayed <EOS> men and gives them suits of durance he that sets up <EOS> his rest to do more exploits with his mace than a <EOS> morris-pike <EOS> antipholus <EOS> i'll serve you sir five hundred at the rate <EOS> antipholus <EOS> i think i had i never did deny it <EOS>  o had the gods done so i had not now <EOS> worthily term'd them merciless to us! <EOS> for ere the ships could meet by twice five leagues <EOS> we were encounterd by a mighty rock <EOS> which be violently borne upon <EOS> our helpful ship was splitted in the midst <EOS> so that in this unjust divorce of us <EOS> fortune had left to both of us alike <EOS> what to delight in what to sorrow for <EOS> her part poor soul! seem as burdened <EOS> with lesser weight but not with lesser woe <EOS> was carried with more speed before the wind <EOS> and in our sight they three were taken up <EOS> by fishermen of corinth as we thought <EOS> at length another ship had seized on us <EOS> and know whom it was their hap to save <EOS> gave healthful welcome to their shipwreck'd guests <EOS> and would have reft the fishers of their prey <EOS> had not their bark been very slow of sail <EOS> and therefore homeward did they bend their course <EOS> thus have you heard me sever'd from my bliss <EOS> that by misfortunes was my life prolong'd <EOS> to tell sad stories of my own mishaps <EOS> sir i commend you to your own content <EOS> exit <EOS> antipholus <EOS> there's none but asses will be bridled so <EOS> yea dost thou jeer and flout me in the teeth? <EOS> think'st thou i jest? hold take thou that and that <EOS> beat him <EOS> o signior balthazar either at flesh or fish <EOS> a table full of welcome make scarce one dainty dish <EOS> gaze where you should and that will clear your sight <EOS> antipholus <EOS> sav your merry humour here's the note <EOS> how much your chain weighs to the utmost carat <EOS> the fineness of the gold and chargeful fashion <EOS> which doth amount to three odd ducats more <EOS> than i stand debted to this gentleman: <EOS> i pray you see him presently discharged <EOS> for he is bound to sea and stays but for it <EOS> antipholus <EOS> and what said he? <EOS> what thou meanest an officer? <EOS> to what end did i bid thee hie thee home? <EOS> yes that you did sir and forswore it too <EOS> antipholus <EOS>\"]\n",
      "RAM used: 713.99 MB\n",
      "This is raw_datasets:  Dataset({\n",
      "    features: ['src', 'trg'],\n",
      "    num_rows: 5083\n",
      "})\n",
      "RAM used: 753.18 MB\n"
     ]
    },
    {
     "data": {
      "application/vnd.jupyter.widget-view+json": {
       "model_id": "7d31458a5d834e06a277bb13a957a594",
       "version_major": 2,
       "version_minor": 0
      },
      "text/plain": [
       "Running tokenizer on dataset (num_proc=4):   0%|          | 0/5083 [00:00<?, ? examples/s]"
      ]
     },
     "metadata": {},
     "output_type": "display_data"
    },
    {
     "name": "stdout",
     "output_type": "stream",
     "text": [
      "### tokenized_datasets Dataset({\n",
      "    features: ['input_id_x', 'input_id_y'],\n",
      "    num_rows: 5083\n",
      "})\n",
      "### tokenized_datasets...example [2, 1672, 13682, 94, 6298, 111, 704, 21, 84, 22, 90, 195, 83, 2928, 100, 454, 678, 3699, 90, 192, 21, 84, 22, 582, 353, 321, 95, 206, 100, 10631, 21, 84, 22, 1581, 116, 141, 5487, 344, 1237, 108, 11563, 21, 84, 22, 149, 506, 390, 26, 10571, 4200, 21, 84, 22, 126, 9739, 121, 11517, 252, 21, 84, 22, 90, 131, 108, 3085, 94, 2110, 321, 148, 476, 21, 84, 22, 2679, 94, 83, 13799, 100, 83, 1496, 21, 84, 22, 1935, 821, 83, 2565, 1037, 650, 109, 83, 2468, 21, 84, 22, 218, 126, 141, 1340, 116, 34, 335, 94, 595, 21, 84, 22, 1207, 21, 84, 22, 1351, 111, 844, 383, 83, 1738, 998, 7, 29, 21, 84, 22, 116, 109, 349, 1447, 34, 924, 94, 1060, 148, 452, 5, 21, 84, 22, 869, 7797, 137, 126, 542, 40, 7, 2239, 21, 84, 22, 83, 919, 34, 1184, 94, 3009, 126, 2189, 221, 21, 84, 22, 1815, 214, 83, 10590, 90, 83, 12337, 1738, 21, 84, 22, 126, 3618, 7, 29, 808, 109, 1029, 94, 1060, 125, 321, 21, 84, 22, 195, 17812, 90, 397, 1634, 7, 44, 1353, 21, 84, 22, 34, 554, 131, 348, 133, 3009, 753, 214, 627, 21, 84, 22, 34, 924, 159, 241, 83, 3182, 21, 84, 22, 273, 252, 110, 591, 21, 84, 22, 245, 3009, 100, 4909, 21, 84, 22, 268, 229, 234, 5, 126, 141, 1534, 2043, 5352, 7, 29, 23, 21, 84, 22, 143, 95, 279, 5509, 152, 1713, 133, 125, 357, 21, 84, 22, 95, 261, 101, 10590, 23, 95, 2309, 101, 919, 23, 21, 84, 22, 141, 714, 924, 94, 156, 125, 857, 94, 2199, 23, 21, 84, 22, 111, 577, 259, 214, 83, 7960, 23, 2174, 145, 307, 21, 84, 22, 116, 516, 152, 7393, 145, 1393, 726, 125, 23, 21, 84, 22, 219, 1664, 2060, 95, 336, 2598, 296, 192, 21, 84, 22, 111, 681, 126, 15715, 284, 34, 595, 131, 1728, 1, 21, 84, 22, 285, 116, 34, 9211, 7, 29, 133, 95, 214, 141, 6813, 21, 84, 22, 94, 273, 83, 492, 54, 100, 179, 30293, 21, 84, 22, 90, 116, 94, 11, 899, 95, 165, 222, 137, 857, 21, 84, 22, 150, 252, 7, 44, 26, 1050, 116, 254, 780, 125, 545, 21, 84, 22, 110, 1139, 125, 158, 83, 3182, 90, 116, 34, 990, 159, 21, 84, 22, 90, 4201, 159, 133, 26, 909, 3911, 109, 919, 21, 84, 22, 90, 116, 34, 303, 1619, 111, 681, 90, 577, 21, 84, 22, 145, 7529, 145, 175, 1393, 145, 538, 195, 149, 23, 21, 84, 22, 90, 310, 137, 108, 116, 95, 156, 2343, 2265, 21, 84, 22, 26, 844, 7, 44, 1736, 23, 197, 1207, 21, 84, 22, 583, 109, 83, 3198, 100, 279, 187, 279, 11, 7249, 5315, 23, 21, 84, 22, 197, 279, 109, 3551, 1114, 152, 11085, 23, 21, 84, 22, 200, 95, 303, 1808, 111, 1166, 121, 179, 2367, 21, 84, 22, 271, 121, 179, 2367, 7, 44, 1456, 926, 179, 133, 262, 2898, 1, 21, 84, 22, 226, 200, 95, 300, 10174, 157, 137, 195, 8605, 21, 84, 22, 16126, 141, 913, 279, 133, 334, 586, 100, 13599, 1, 21, 84, 22, 231, 131, 111, 1166, 858, 137, 109, 141, 774, 21, 84, 22, 108, 131, 187, 785, 187, 517, 915, 7, 44, 8067, 21, 84, 22, 380, 484, 108, 442, 1649, 19646, 21, 84, 22, 4063, 3225, 300, 1296, 7, 44, 16467, 21, 84, 22, 522, 26, 442, 1943, 587, 141, 366, 108, 6787, 21, 84, 22, 1627, 1238, 83, 5855, 100, 26, 1275, 1636, 21, 84, 22, 108, 1859, 11, 913, 1, 175, 815, 230, 108, 4086, 23, 21, 84, 22, 175, 2282, 2751, 10171, 100, 148, 517, 10977, 23, 21, 84, 22, 7, 345, 2375, 851, 94, 7435, 133, 141, 777, 21, 84, 22, 90, 231, 179, 858, 137, 109, 187, 1258, 214, 4731, 1, 21, 84, 22, 915, 297, 26, 1836, 2717, 270, 17341, 21, 84, 22, 988, 29, 20678, 206, 11013, 133, 168, 2977, 461, 21, 84, 22, 1169, 569, 1363, 5, 317, 296, 150, 1121, 21, 84, 22, 108, 7132, 100, 3209, 116, 95, 279, 296, 21, 84, 22, 587, 1320, 156, 83, 534, 586, 296, 83, 5428, 21, 84, 22, 139, 109, 141, 2488, 734, 90, 95, 310, 1983, 296, 21, 84, 22, 271, 441, 533, 933, 95, 109, 357, 21, 84, 22, 1127, 111, 1166, 1843, 179, 465, 179, 681, 1, 21, 84, 22, 7, 345, 1275, 1618, 94, 108, 26, 696, 2173, 21, 84, 22, 284, 83, 484, 879, 100, 5568, 15551, 4458, 21, 84, 22, 1207, 21, 84, 22, 95, 261, 753, 16064, 83, 1435, 126, 2446, 21, 84, 22, 90, 753, 34, 156, 131, 424, 10336, 95, 21, 84, 22, 383, 229, 34, 335, 131, 150, 116, 34, 228, 1192, 21, 84, 22, 94, 23941, 90, 1106, 19081, 121, 111, 5437, 1, 21, 84, 22, 582, 317, 763, 4475, 21, 84, 22, 226, 34, 7, 251, 8507, 95, 195, 149, 3043, 21, 84, 22, 1470, 7797, 303, 110, 3038, 213, 152, 23, 21, 84, 22, 5098, 145, 2163, 20035, 109, 148, 774, 21, 84, 22, 116, 110, 303, 2895, 109, 3216, 23, 1394, 226, 101, 23, 21, 84, 22, 380, 7, 29, 110, 226, 1451, 226, 1662, 226, 1234, 226, 5764, 23, 21, 84, 22, 175, 8644, 10063, 145, 109, 149, 2021, 21, 84, 22, 100, 148, 366, 7, 44, 11483, 12838, 109, 148, 780, 23, 21, 84, 22, 218, 7, 44, 131, 26, 220, 34, 795, 150, 493, 5563, 125, 21, 84, 22, 143, 200, 34, 326, 283, 270, 11, 4086, 729, 21, 84, 22, 90, 659, 302, 493, 465, 125, 195, 111, 546, 21, 84, 22, 334, 1426, 1340, 94, 125, 334, 5885, 125, 21, 84, 22, 334, 466, 353, 125, 1377, 121, 13727, 21, 84, 22, 334, 1993, 125, 16039, 94, 2110, 1, 21, 84, 22, 583, 229, 26, 4482, 465, 7, 29, 125, 109, 148, 6813, 21, 84, 22, 90, 586, 7, 29, 125, 13361, 116, 110, 335, 3181, 121, 125, 21, 84, 22, 90, 9282, 1472, 2161, 100, 111, 1014, 21, 84, 22, 869, 354, 206, 150, 11253, 17083, 21, 84, 22, 90, 26663, 16345, 8294, 252, 21, 84, 22, 245, 3009, 100, 4909, 21, 84, 22, 471, 125, 131, 220, 34, 165, 131, 905, 485, 1, 21, 84, 22, 34, 7, 251, 353, 213, 821, 34, 550, 213, 152, 424, 1340, 21, 84, 22, 94, 1328, 213, 143, 34, 228, 7, 10998, 121, 21, 84, 22, 111, 681, 126, 109, 26, 7129, 4104, 94, 11, 390, 21, 84, 22, 90, 165, 131, 7788, 1217, 83, 1588, 21, 84, 22, 116, 34, 315, 108, 8507, 7, 29, 109, 4009, 21, 84, 22, 34, 384, 95, 7, 2703, 942, 15913, 109, 179, 1439, 21, 84, 22, 245, 3009, 100, 4009, 133, 26, 6422, 7, 44, 11, 678, 21, 84, 22, 252, 591, 111, 220, 34, 379, 110, 3323, 83, 1340, 21, 84, 22, 268, 229, 234, 5, 156, 95, 116, 34, 924, 95, 121, 23, 21, 84, 22, 34, 228, 2211, 234, 116, 34, 156, 7259, 7, 29, 95, 21, 84, 22, 150, 34, 2649, 110, 335, 83, 2761, 100, 125, 21, 84, 22, 587, 386, 19668, 110, 493, 1619, 137, 21, 84, 22, 4200, 100, 4909, 2895, 101, 262, 21, 84, 22, 34, 228, 131, 10120, 94, 12677, 211, 4213, 1, 21, 84, 22, 83, 6134, 90, 5703, 269, 100, 1181, 21, 84, 22, 9174, 241, 83, 12576, 6124, 100, 141, 570, 21, 84, 22, 94, 8744, 211, 270, 11, 2368, 3810, 21, 84, 22, 341, 1106, 19081, 94, 5137, 283, 1316, 21, 84, 22, 156, 1853, 7, 29, 148, 13993, 8250, 133, 283, 6643, 21, 84, 22, 30104, 192, 1176, 241, 211, 7534, 1258, 21, 84, 22, 121, 753, 83, 1804, 90, 18141, 9329, 21, 84, 22, 7, 2538, 187, 19351, 3810, 90, 296, 21, 84, 22, 137, 297, 109, 2654, 28505, 530, 9129, 21, 84, 22, 600, 195, 83, 27738, 90, 1840, 21, 84, 22, 94, 3712, 101, 8308, 94, 211, 7757, 4471, 592, 262, 21, 84, 22, 200, 496, 1005, 214, 4009, 108, 1068, 21, 84, 22, 214, 496, 10571, 25931, 90, 11944, 21, 84, 22, 357, 1, 200, 496, 10571, 1005, 21, 84, 22, 248, 94, 83, 4416, 100, 4009, 110, 1935, 21, 84, 22, 148, 5487, 11563, 94, 83, 570, 7, 44, 5252, 21, 84, 22, 1550, 26, 909, 3911, 108, 7278, 21, 84, 22, 94, 3146, 83, 7843, 90, 94, 3008, 159, 21, 84, 22, 187, 4210, 7151, 214, 83, 6872, 4926, 21, 84, 22, 520, 8429, 751, 26, 1844, 3911, 21, 84, 22, 582, 195, 895, 145, 445, 3817, 94, 699, 21, 84, 22, 189, 522, 137, 94, 83, 10590, 306, 139, 1634, 21, 84, 22, 90, 677, 218, 3009, 578, 34, 248, 94, 213, 21, 84, 22, 692, 149, 713, 137, 165, 108, 2199, 11, 413, 1, 21, 84, 22, 578, 116, 34, 7, 251, 2322, 83, 2670, 100, 83, 1496, 21, 84, 22, 7115, 83, 14015, 5130, 311, 83, 12388, 21, 84, 22, 90, 271, 998, 90, 846, 692, 397, 6376, 21, 84, 22, 121, 133, 560, 4369, 34, 228, 6180, 90, 2565, 21, 84, 22, 933, 213, 485, 21, 84, 22, 3489, 334, 4200, 297, 9078, 159, 21, 84, 22, 90, 241, 83, 3182, 110, 7, 44, 16038, 721, 94, 2199, 21, 84, 22, 219, 1166, 231, 296, 5039, 90, 425, 4318, 1, 21, 84, 22, 26, 220, 126, 452, 100, 148, 2597, 1, 21, 84, 22, 413, 126, 283, 452, 90, 284, 249, 273, 413, 21, 84, 22, 249, 7, 251, 189, 226, 248, 1, 200, 152, 108, 1958, 1166, 21, 84, 22, 175, 726, 234, 23, 284, 3237, 34, 349, 26, 461, 23, 21, 84, 22, 1207, 21, 84, 22, 285, 175, 95, 165, 234, 150, 34, 261, 175, 34, 261, 21, 84, 22, 116, 95, 990, 125, 214, 83, 3182, 34, 156, 141, 456, 94, 586, 1, 21, 84, 22, 200, 83, 4217, 326, 9845, 90, 83, 2535, 95, 1184, 326, 3958, 21, 84, 22, 141, 517, 22991, 130, 254, 384, 95, 175, 34, 379, 21, 84, 22, 1207, 21, 84, 22, 484, 714, 11, 11, 175, 141, 546, 126, 764, 34, 261, 131, 21, 84, 22, 383, 195, 175, 1432, 95, 157, 2845, 100, 397, 11, 11, 21, 84, 22, 1056, 109, 141, 2430, 90, 141, 610, 95, 586, 131, 21, 84, 22, 255, 211, 861, 7, 44, 1432, 262, 255, 861, 3452, 21, 84, 22, 1627, 125, 626, 2462, 268, 94, 379, 90, 348, 21, 84, 22, 923, 1414, 94, 111, 10196, 11, 2316, 3815, 21, 84, 22, 6439, 7, 29, 109, 11395, 6107, 2533, 1568, 21, 84, 22, 83, 11351, 538, 100, 141, 775, 7, 4901, 21, 84, 22, 629, 111, 623, 7, 44, 2690, 935, 339, 1539, 95, 21, 84, 22, 94, 317, 137, 3618, 109, 168, 3666, 1180, 23, 21, 84, 22, 206, 95, 26, 364, 23, 254, 95, 5741, 125, 615, 23, 21, 84, 22, 7528, 125, 271, 90, 94, 141, 885, 34, 7, 251, 1268, 21, 84, 22, 150, 200, 116, 34, 228, 34, 271, 270, 34, 261, 21, 84, 22, 141, 1044, 1166, 126, 101, 681, 100, 397, 21, 84, 22, 383, 94, 179, 777, 101, 6741, 157, 34, 2607, 21, 84, 22, 839, 262, 839, 262, 94, 95, 157, 34, 9196, 21, 84, 22, 40, 2473, 125, 131, 484, 10140, 133, 187, 1537, 21, 84, 22, 94, 1885, 125, 109, 187, 1166, 7, 44, 3028, 100, 994, 1, 21, 84, 22, 44, 17383, 121, 1251, 90, 34, 165, 5019, 1, 21, 84, 22, 4625, 40, 7, 447, 83, 2567, 6248, 187, 2242, 4671, 21, 84, 22, 90, 143, 26, 777, 34, 7, 251, 373, 277, 90, 218, 636, 21, 84, 22, 90, 109, 116, 3491, 13409, 379, 21, 84, 22, 110, 7330, 195, 454, 116, 297, 349, 1059, 94, 699, 1, 21, 84, 22, 231, 279, 108, 856, 108, 3168, 200, 230, 3672, 5, 21, 84, 22, 583, 872, 83, 1435, 116, 34, 157, 2607, 94, 95, 21, 84, 22, 126, 1114, 94, 125, 195, 1207, 21, 84, 22, 90, 109, 83, 2295, 116, 34, 1139, 133, 95, 21, 84, 22, 110, 335, 100, 125, 26, 2761, 1, 214, 1653, 40, 7, 2239, 21, 84, 22, 34, 197, 2119, 83, 1340, 121, 83, 952, 21, 84, 22, 6879, 95, 1434, 133, 125, 545, 94, 148, 577, 21, 84, 22, 34, 165, 4906, 111, 1930, 90, 878, 95, 344, 21, 84, 22, 245, 1207, 100, 4009, 90, 3009, 100, 4009, 241, 83, 9857, 7, 44, 21, 84, 22, 627, 110, 3159, 95, 335, 109, 159, 101, 786, 21, 84, 22, 452, 252, 7, 44, 83, 919, 95, 924, 125, 121, 21, 84, 22, 175, 156, 21, 84, 22, 95, 1657, 83, 3886, 100, 584, 4270, 615, 11, 9738, 23, 21, 84, 22, 1207, 21, 84, 22, 252, 7, 44, 116, 34, 1328, 95, 165, 1346, 277, 192, 21, 84, 22, 1207, 21, 84, 22, 268, 126, 83, 220, 7190, 252, 109, 83, 1580, 23, 21, 84, 22, 332, 149, 111, 1127, 1, 284, 141, 775, 206, 540, 21, 84, 22, 111, 3699, 678, 5087, 133, 83, 583, 1037, 21, 84, 22, 635, 26, 220, 254, 373, 95, 214, 141, 461, 21, 84, 22, 90, 189, 758, 6175, 152, 219, 26, 538, 21, 84, 22, 436, 21, 84, 22, 1207, 21, 84, 22, 339, 315, 283, 2597, 255, 2184, 108, 262, 23, 21, 84, 22, 583, 229, 583, 252, 131, 1109, 168, 713, 753, 21, 84, 22, 34, 379, 145, 445, 168, 837, 21, 84, 22, 175, 206, 95, 307, 116, 95, 157, 951, 152, 23, 21, 84, 22, 1207, 21, 84, 22, 116, 1539, 310, 95, 1254, 1, 273, 306, 110, 591, 21, 84, 22, 1207, 21, 84, 22, 110, 2427, 110, 303, 125, 708, 83, 262, 111, 2994, 21, 84, 22, 175, 919, 126, 149, 23, 175, 4270, 790, 145, 538, 23, 21, 84, 22, 150, 306, 7, 44, 83, 1340, 23, 21, 84, 22, 100, 506, 2962, 3494, 234, 21, 84, 22, 100, 3209, 3706, 6871, 3109, 21, 84, 22, 1802, 94, 708, 116, 1316, 252, 109, 83, 1580, 1, 21, 84, 22, 148, 461, 558, 522, 111, 2367, 214, 496, 413, 21, 84, 22, 3]\n",
      "RAM used: 1010.15 MB\n"
     ]
    },
    {
     "data": {
      "application/vnd.jupyter.widget-view+json": {
       "model_id": "e46a636698634950b0952347ae585a16",
       "version_major": 2,
       "version_minor": 0
      },
      "text/plain": [
       "merge and mask:   0%|          | 0/5083 [00:00<?, ? examples/s]"
      ]
     },
     "metadata": {},
     "output_type": "display_data"
    },
    {
     "name": "stdout",
     "output_type": "stream",
     "text": [
      "RAM used: 1105.20 MB\n"
     ]
    },
    {
     "data": {
      "application/vnd.jupyter.widget-view+json": {
       "model_id": "fbfa14f61558456cacb19437943e9587",
       "version_major": 2,
       "version_minor": 0
      },
      "text/plain": [
       "padding:   0%|          | 0/5083 [00:00<?, ? examples/s]"
      ]
     },
     "metadata": {},
     "output_type": "display_data"
    },
    {
     "name": "stdout",
     "output_type": "stream",
     "text": [
      "Dataset({\n",
      "    features: ['input_id_x', 'input_id_y', 'input_ids', 'input_mask'],\n",
      "    num_rows: 5083\n",
      "}) padded dataset\n",
      "RAM used: 1187.09 MB\n",
      "RAM used: 1159.08 MB\n"
     ]
    }
   ],
   "source": [
    "data = load_data_text(\n",
    "        batch_size=batch_size,\n",
    "        seq_len=seq_len,\n",
    "        data_dir=data_dir,\n",
    "        loaded_vocab=tokenizer,\n",
    "        model_emb=model_weight # use model's weights as init\n",
    "    )"
   ]
  },
  {
   "cell_type": "markdown",
   "id": "a2749334",
   "metadata": {},
   "source": [
    "Passed in as batch in TrainLoop - this is the batch data"
   ]
  },
  {
   "cell_type": "code",
   "execution_count": 15,
   "id": "02903fcb",
   "metadata": {
    "scrolled": true
   },
   "outputs": [],
   "source": [
    "# next(data)[0].shape # batch_size, seq_len, hidden_dim"
   ]
  },
  {
   "cell_type": "code",
   "execution_count": 16,
   "id": "0f5f7c06",
   "metadata": {},
   "outputs": [],
   "source": [
    "# next(data)[0]"
   ]
  },
  {
   "cell_type": "markdown",
   "id": "964d608d",
   "metadata": {},
   "source": [
    "Passed in as cond in TrainLoop - this is a dictionary of input_ids and input_mask"
   ]
  },
  {
   "cell_type": "code",
   "execution_count": 17,
   "id": "44f6e7ed",
   "metadata": {},
   "outputs": [],
   "source": [
    "# next(data)[1]"
   ]
  },
  {
   "cell_type": "code",
   "execution_count": 18,
   "id": "4c1d8eb7",
   "metadata": {
    "scrolled": true
   },
   "outputs": [],
   "source": [
    "# next(data)[1]['input_ids'].shape # batch_size, hidden_dim"
   ]
  },
  {
   "cell_type": "code",
   "execution_count": 19,
   "id": "39c90139",
   "metadata": {},
   "outputs": [],
   "source": [
    "# next(data)[1]['input_mask'].shape # batch_size, hidden_dim"
   ]
  },
  {
   "cell_type": "code",
   "execution_count": 20,
   "id": "85a49540",
   "metadata": {},
   "outputs": [],
   "source": [
    "model, diffusion = create_model_and_diffusion(\n",
    "                        hidden_t_dim,\n",
    "                        hidden_dim,\n",
    "                        vocab_size,\n",
    "                        config_name,\n",
    "                        use_plm_init,\n",
    "                        dropout,\n",
    "                        diffusion_steps,\n",
    "                        noise_schedule,\n",
    "                        predict_xstart,\n",
    "                        rescale_timesteps,\n",
    "                    )"
   ]
  },
  {
   "cell_type": "code",
   "execution_count": 21,
   "id": "4b4bbaf6",
   "metadata": {
    "scrolled": true,
    "tags": []
   },
   "outputs": [
    {
     "data": {
      "text/plain": [
       "TransformerNetModel(\n",
       "  (word_embedding): Embedding(30473, 128)\n",
       "  (lm_head): Linear(in_features=128, out_features=30473, bias=True)\n",
       "  (time_embed): Sequential(\n",
       "    (0): Linear(in_features=128, out_features=512, bias=True)\n",
       "    (1): SiLU()\n",
       "    (2): Linear(in_features=512, out_features=768, bias=True)\n",
       "  )\n",
       "  (input_up_proj): Sequential(\n",
       "    (0): Linear(in_features=128, out_features=768, bias=True)\n",
       "    (1): Tanh()\n",
       "    (2): Linear(in_features=768, out_features=768, bias=True)\n",
       "  )\n",
       "  (input_transformers): BertEncoder(\n",
       "    (layer): ModuleList(\n",
       "      (0): BertLayer(\n",
       "        (attention): BertAttention(\n",
       "          (self): BertSelfAttention(\n",
       "            (query): Linear(in_features=768, out_features=768, bias=True)\n",
       "            (key): Linear(in_features=768, out_features=768, bias=True)\n",
       "            (value): Linear(in_features=768, out_features=768, bias=True)\n",
       "            (dropout): Dropout(p=0.1, inplace=False)\n",
       "          )\n",
       "          (output): BertSelfOutput(\n",
       "            (dense): Linear(in_features=768, out_features=768, bias=True)\n",
       "            (LayerNorm): LayerNorm((768,), eps=1e-12, elementwise_affine=True)\n",
       "            (dropout): Dropout(p=0.1, inplace=False)\n",
       "          )\n",
       "        )\n",
       "        (intermediate): BertIntermediate(\n",
       "          (dense): Linear(in_features=768, out_features=3072, bias=True)\n",
       "          (intermediate_act_fn): GELUActivation()\n",
       "        )\n",
       "        (output): BertOutput(\n",
       "          (dense): Linear(in_features=3072, out_features=768, bias=True)\n",
       "          (LayerNorm): LayerNorm((768,), eps=1e-12, elementwise_affine=True)\n",
       "          (dropout): Dropout(p=0.1, inplace=False)\n",
       "        )\n",
       "      )\n",
       "      (1): BertLayer(\n",
       "        (attention): BertAttention(\n",
       "          (self): BertSelfAttention(\n",
       "            (query): Linear(in_features=768, out_features=768, bias=True)\n",
       "            (key): Linear(in_features=768, out_features=768, bias=True)\n",
       "            (value): Linear(in_features=768, out_features=768, bias=True)\n",
       "            (dropout): Dropout(p=0.1, inplace=False)\n",
       "          )\n",
       "          (output): BertSelfOutput(\n",
       "            (dense): Linear(in_features=768, out_features=768, bias=True)\n",
       "            (LayerNorm): LayerNorm((768,), eps=1e-12, elementwise_affine=True)\n",
       "            (dropout): Dropout(p=0.1, inplace=False)\n",
       "          )\n",
       "        )\n",
       "        (intermediate): BertIntermediate(\n",
       "          (dense): Linear(in_features=768, out_features=3072, bias=True)\n",
       "          (intermediate_act_fn): GELUActivation()\n",
       "        )\n",
       "        (output): BertOutput(\n",
       "          (dense): Linear(in_features=3072, out_features=768, bias=True)\n",
       "          (LayerNorm): LayerNorm((768,), eps=1e-12, elementwise_affine=True)\n",
       "          (dropout): Dropout(p=0.1, inplace=False)\n",
       "        )\n",
       "      )\n",
       "      (2): BertLayer(\n",
       "        (attention): BertAttention(\n",
       "          (self): BertSelfAttention(\n",
       "            (query): Linear(in_features=768, out_features=768, bias=True)\n",
       "            (key): Linear(in_features=768, out_features=768, bias=True)\n",
       "            (value): Linear(in_features=768, out_features=768, bias=True)\n",
       "            (dropout): Dropout(p=0.1, inplace=False)\n",
       "          )\n",
       "          (output): BertSelfOutput(\n",
       "            (dense): Linear(in_features=768, out_features=768, bias=True)\n",
       "            (LayerNorm): LayerNorm((768,), eps=1e-12, elementwise_affine=True)\n",
       "            (dropout): Dropout(p=0.1, inplace=False)\n",
       "          )\n",
       "        )\n",
       "        (intermediate): BertIntermediate(\n",
       "          (dense): Linear(in_features=768, out_features=3072, bias=True)\n",
       "          (intermediate_act_fn): GELUActivation()\n",
       "        )\n",
       "        (output): BertOutput(\n",
       "          (dense): Linear(in_features=3072, out_features=768, bias=True)\n",
       "          (LayerNorm): LayerNorm((768,), eps=1e-12, elementwise_affine=True)\n",
       "          (dropout): Dropout(p=0.1, inplace=False)\n",
       "        )\n",
       "      )\n",
       "      (3): BertLayer(\n",
       "        (attention): BertAttention(\n",
       "          (self): BertSelfAttention(\n",
       "            (query): Linear(in_features=768, out_features=768, bias=True)\n",
       "            (key): Linear(in_features=768, out_features=768, bias=True)\n",
       "            (value): Linear(in_features=768, out_features=768, bias=True)\n",
       "            (dropout): Dropout(p=0.1, inplace=False)\n",
       "          )\n",
       "          (output): BertSelfOutput(\n",
       "            (dense): Linear(in_features=768, out_features=768, bias=True)\n",
       "            (LayerNorm): LayerNorm((768,), eps=1e-12, elementwise_affine=True)\n",
       "            (dropout): Dropout(p=0.1, inplace=False)\n",
       "          )\n",
       "        )\n",
       "        (intermediate): BertIntermediate(\n",
       "          (dense): Linear(in_features=768, out_features=3072, bias=True)\n",
       "          (intermediate_act_fn): GELUActivation()\n",
       "        )\n",
       "        (output): BertOutput(\n",
       "          (dense): Linear(in_features=3072, out_features=768, bias=True)\n",
       "          (LayerNorm): LayerNorm((768,), eps=1e-12, elementwise_affine=True)\n",
       "          (dropout): Dropout(p=0.1, inplace=False)\n",
       "        )\n",
       "      )\n",
       "      (4): BertLayer(\n",
       "        (attention): BertAttention(\n",
       "          (self): BertSelfAttention(\n",
       "            (query): Linear(in_features=768, out_features=768, bias=True)\n",
       "            (key): Linear(in_features=768, out_features=768, bias=True)\n",
       "            (value): Linear(in_features=768, out_features=768, bias=True)\n",
       "            (dropout): Dropout(p=0.1, inplace=False)\n",
       "          )\n",
       "          (output): BertSelfOutput(\n",
       "            (dense): Linear(in_features=768, out_features=768, bias=True)\n",
       "            (LayerNorm): LayerNorm((768,), eps=1e-12, elementwise_affine=True)\n",
       "            (dropout): Dropout(p=0.1, inplace=False)\n",
       "          )\n",
       "        )\n",
       "        (intermediate): BertIntermediate(\n",
       "          (dense): Linear(in_features=768, out_features=3072, bias=True)\n",
       "          (intermediate_act_fn): GELUActivation()\n",
       "        )\n",
       "        (output): BertOutput(\n",
       "          (dense): Linear(in_features=3072, out_features=768, bias=True)\n",
       "          (LayerNorm): LayerNorm((768,), eps=1e-12, elementwise_affine=True)\n",
       "          (dropout): Dropout(p=0.1, inplace=False)\n",
       "        )\n",
       "      )\n",
       "      (5): BertLayer(\n",
       "        (attention): BertAttention(\n",
       "          (self): BertSelfAttention(\n",
       "            (query): Linear(in_features=768, out_features=768, bias=True)\n",
       "            (key): Linear(in_features=768, out_features=768, bias=True)\n",
       "            (value): Linear(in_features=768, out_features=768, bias=True)\n",
       "            (dropout): Dropout(p=0.1, inplace=False)\n",
       "          )\n",
       "          (output): BertSelfOutput(\n",
       "            (dense): Linear(in_features=768, out_features=768, bias=True)\n",
       "            (LayerNorm): LayerNorm((768,), eps=1e-12, elementwise_affine=True)\n",
       "            (dropout): Dropout(p=0.1, inplace=False)\n",
       "          )\n",
       "        )\n",
       "        (intermediate): BertIntermediate(\n",
       "          (dense): Linear(in_features=768, out_features=3072, bias=True)\n",
       "          (intermediate_act_fn): GELUActivation()\n",
       "        )\n",
       "        (output): BertOutput(\n",
       "          (dense): Linear(in_features=3072, out_features=768, bias=True)\n",
       "          (LayerNorm): LayerNorm((768,), eps=1e-12, elementwise_affine=True)\n",
       "          (dropout): Dropout(p=0.1, inplace=False)\n",
       "        )\n",
       "      )\n",
       "      (6): BertLayer(\n",
       "        (attention): BertAttention(\n",
       "          (self): BertSelfAttention(\n",
       "            (query): Linear(in_features=768, out_features=768, bias=True)\n",
       "            (key): Linear(in_features=768, out_features=768, bias=True)\n",
       "            (value): Linear(in_features=768, out_features=768, bias=True)\n",
       "            (dropout): Dropout(p=0.1, inplace=False)\n",
       "          )\n",
       "          (output): BertSelfOutput(\n",
       "            (dense): Linear(in_features=768, out_features=768, bias=True)\n",
       "            (LayerNorm): LayerNorm((768,), eps=1e-12, elementwise_affine=True)\n",
       "            (dropout): Dropout(p=0.1, inplace=False)\n",
       "          )\n",
       "        )\n",
       "        (intermediate): BertIntermediate(\n",
       "          (dense): Linear(in_features=768, out_features=3072, bias=True)\n",
       "          (intermediate_act_fn): GELUActivation()\n",
       "        )\n",
       "        (output): BertOutput(\n",
       "          (dense): Linear(in_features=3072, out_features=768, bias=True)\n",
       "          (LayerNorm): LayerNorm((768,), eps=1e-12, elementwise_affine=True)\n",
       "          (dropout): Dropout(p=0.1, inplace=False)\n",
       "        )\n",
       "      )\n",
       "      (7): BertLayer(\n",
       "        (attention): BertAttention(\n",
       "          (self): BertSelfAttention(\n",
       "            (query): Linear(in_features=768, out_features=768, bias=True)\n",
       "            (key): Linear(in_features=768, out_features=768, bias=True)\n",
       "            (value): Linear(in_features=768, out_features=768, bias=True)\n",
       "            (dropout): Dropout(p=0.1, inplace=False)\n",
       "          )\n",
       "          (output): BertSelfOutput(\n",
       "            (dense): Linear(in_features=768, out_features=768, bias=True)\n",
       "            (LayerNorm): LayerNorm((768,), eps=1e-12, elementwise_affine=True)\n",
       "            (dropout): Dropout(p=0.1, inplace=False)\n",
       "          )\n",
       "        )\n",
       "        (intermediate): BertIntermediate(\n",
       "          (dense): Linear(in_features=768, out_features=3072, bias=True)\n",
       "          (intermediate_act_fn): GELUActivation()\n",
       "        )\n",
       "        (output): BertOutput(\n",
       "          (dense): Linear(in_features=3072, out_features=768, bias=True)\n",
       "          (LayerNorm): LayerNorm((768,), eps=1e-12, elementwise_affine=True)\n",
       "          (dropout): Dropout(p=0.1, inplace=False)\n",
       "        )\n",
       "      )\n",
       "      (8): BertLayer(\n",
       "        (attention): BertAttention(\n",
       "          (self): BertSelfAttention(\n",
       "            (query): Linear(in_features=768, out_features=768, bias=True)\n",
       "            (key): Linear(in_features=768, out_features=768, bias=True)\n",
       "            (value): Linear(in_features=768, out_features=768, bias=True)\n",
       "            (dropout): Dropout(p=0.1, inplace=False)\n",
       "          )\n",
       "          (output): BertSelfOutput(\n",
       "            (dense): Linear(in_features=768, out_features=768, bias=True)\n",
       "            (LayerNorm): LayerNorm((768,), eps=1e-12, elementwise_affine=True)\n",
       "            (dropout): Dropout(p=0.1, inplace=False)\n",
       "          )\n",
       "        )\n",
       "        (intermediate): BertIntermediate(\n",
       "          (dense): Linear(in_features=768, out_features=3072, bias=True)\n",
       "          (intermediate_act_fn): GELUActivation()\n",
       "        )\n",
       "        (output): BertOutput(\n",
       "          (dense): Linear(in_features=3072, out_features=768, bias=True)\n",
       "          (LayerNorm): LayerNorm((768,), eps=1e-12, elementwise_affine=True)\n",
       "          (dropout): Dropout(p=0.1, inplace=False)\n",
       "        )\n",
       "      )\n",
       "      (9): BertLayer(\n",
       "        (attention): BertAttention(\n",
       "          (self): BertSelfAttention(\n",
       "            (query): Linear(in_features=768, out_features=768, bias=True)\n",
       "            (key): Linear(in_features=768, out_features=768, bias=True)\n",
       "            (value): Linear(in_features=768, out_features=768, bias=True)\n",
       "            (dropout): Dropout(p=0.1, inplace=False)\n",
       "          )\n",
       "          (output): BertSelfOutput(\n",
       "            (dense): Linear(in_features=768, out_features=768, bias=True)\n",
       "            (LayerNorm): LayerNorm((768,), eps=1e-12, elementwise_affine=True)\n",
       "            (dropout): Dropout(p=0.1, inplace=False)\n",
       "          )\n",
       "        )\n",
       "        (intermediate): BertIntermediate(\n",
       "          (dense): Linear(in_features=768, out_features=3072, bias=True)\n",
       "          (intermediate_act_fn): GELUActivation()\n",
       "        )\n",
       "        (output): BertOutput(\n",
       "          (dense): Linear(in_features=3072, out_features=768, bias=True)\n",
       "          (LayerNorm): LayerNorm((768,), eps=1e-12, elementwise_affine=True)\n",
       "          (dropout): Dropout(p=0.1, inplace=False)\n",
       "        )\n",
       "      )\n",
       "      (10): BertLayer(\n",
       "        (attention): BertAttention(\n",
       "          (self): BertSelfAttention(\n",
       "            (query): Linear(in_features=768, out_features=768, bias=True)\n",
       "            (key): Linear(in_features=768, out_features=768, bias=True)\n",
       "            (value): Linear(in_features=768, out_features=768, bias=True)\n",
       "            (dropout): Dropout(p=0.1, inplace=False)\n",
       "          )\n",
       "          (output): BertSelfOutput(\n",
       "            (dense): Linear(in_features=768, out_features=768, bias=True)\n",
       "            (LayerNorm): LayerNorm((768,), eps=1e-12, elementwise_affine=True)\n",
       "            (dropout): Dropout(p=0.1, inplace=False)\n",
       "          )\n",
       "        )\n",
       "        (intermediate): BertIntermediate(\n",
       "          (dense): Linear(in_features=768, out_features=3072, bias=True)\n",
       "          (intermediate_act_fn): GELUActivation()\n",
       "        )\n",
       "        (output): BertOutput(\n",
       "          (dense): Linear(in_features=3072, out_features=768, bias=True)\n",
       "          (LayerNorm): LayerNorm((768,), eps=1e-12, elementwise_affine=True)\n",
       "          (dropout): Dropout(p=0.1, inplace=False)\n",
       "        )\n",
       "      )\n",
       "      (11): BertLayer(\n",
       "        (attention): BertAttention(\n",
       "          (self): BertSelfAttention(\n",
       "            (query): Linear(in_features=768, out_features=768, bias=True)\n",
       "            (key): Linear(in_features=768, out_features=768, bias=True)\n",
       "            (value): Linear(in_features=768, out_features=768, bias=True)\n",
       "            (dropout): Dropout(p=0.1, inplace=False)\n",
       "          )\n",
       "          (output): BertSelfOutput(\n",
       "            (dense): Linear(in_features=768, out_features=768, bias=True)\n",
       "            (LayerNorm): LayerNorm((768,), eps=1e-12, elementwise_affine=True)\n",
       "            (dropout): Dropout(p=0.1, inplace=False)\n",
       "          )\n",
       "        )\n",
       "        (intermediate): BertIntermediate(\n",
       "          (dense): Linear(in_features=768, out_features=3072, bias=True)\n",
       "          (intermediate_act_fn): GELUActivation()\n",
       "        )\n",
       "        (output): BertOutput(\n",
       "          (dense): Linear(in_features=3072, out_features=768, bias=True)\n",
       "          (LayerNorm): LayerNorm((768,), eps=1e-12, elementwise_affine=True)\n",
       "          (dropout): Dropout(p=0.1, inplace=False)\n",
       "        )\n",
       "      )\n",
       "    )\n",
       "  )\n",
       "  (position_embeddings): Embedding(512, 768)\n",
       "  (LayerNorm): LayerNorm((768,), eps=1e-12, elementwise_affine=True)\n",
       "  (dropout): Dropout(p=0.1, inplace=False)\n",
       "  (output_down_proj): Sequential(\n",
       "    (0): Linear(in_features=768, out_features=768, bias=True)\n",
       "    (1): Tanh()\n",
       "    (2): Linear(in_features=768, out_features=128, bias=True)\n",
       "  )\n",
       ")"
      ]
     },
     "execution_count": 21,
     "metadata": {},
     "output_type": "execute_result"
    }
   ],
   "source": [
    "model.to(dist_util.dev())"
   ]
  },
  {
   "cell_type": "code",
   "execution_count": 22,
   "id": "9124ba2f",
   "metadata": {},
   "outputs": [],
   "source": [
    "pytorch_total_params = sum(p.numel() for p in model.parameters())"
   ]
  },
  {
   "cell_type": "code",
   "execution_count": 23,
   "id": "80784a87",
   "metadata": {},
   "outputs": [
    {
     "data": {
      "text/plain": [
       "91218953"
      ]
     },
     "execution_count": 23,
     "metadata": {},
     "output_type": "execute_result"
    }
   ],
   "source": [
    "pytorch_total_params"
   ]
  },
  {
   "cell_type": "code",
   "execution_count": 24,
   "id": "47493837",
   "metadata": {},
   "outputs": [],
   "source": [
    "os.environ['CUDA_LAUNCH_BLOCKING'] = '1'"
   ]
  },
  {
   "cell_type": "code",
   "execution_count": 25,
   "id": "fbe31a79",
   "metadata": {
    "scrolled": true
   },
   "outputs": [
    {
     "name": "stdout",
     "output_type": "stream",
     "text": [
      "Epoch 0 Loss: 1.0473501682281494\n",
      "Epoch 1 Loss: 1.0449873208999634\n",
      "Epoch 2 Loss: 0.9932296276092529\n",
      "Epoch 3 Loss: 0.9570184350013733\n",
      "Epoch 4 Loss: 0.9466387033462524\n",
      "Epoch 5 Loss: 0.9344589710235596\n",
      "Epoch 6 Loss: 0.9199233651161194\n",
      "Epoch 7 Loss: 0.9016681909561157\n",
      "Epoch 8 Loss: 0.8636384606361389\n",
      "Epoch 9 Loss: 0.7462528944015503\n",
      "Epoch 10 Loss: 0.6727670431137085\n",
      "Epoch 11 Loss: 0.5101889967918396\n",
      "Epoch 12 Loss: 0.6523962020874023\n",
      "Epoch 13 Loss: 0.8114101886749268\n",
      "Epoch 14 Loss: 1.133377194404602\n",
      "Epoch 15 Loss: 1.0206667184829712\n",
      "Epoch 16 Loss: 0.9286031723022461\n",
      "Epoch 17 Loss: 0.9162858128547668\n",
      "Epoch 18 Loss: 0.8699871301651001\n",
      "Epoch 19 Loss: 0.8511697053909302\n",
      "Epoch 20 Loss: 0.846432089805603\n",
      "Epoch 21 Loss: 0.7838535308837891\n",
      "Epoch 22 Loss: 0.8382791876792908\n",
      "Epoch 23 Loss: 0.8339088559150696\n",
      "Epoch 24 Loss: 0.7853477001190186\n",
      "Epoch 25 Loss: 0.803545355796814\n",
      "Epoch 26 Loss: 0.8014354109764099\n",
      "Epoch 27 Loss: 0.7737951278686523\n",
      "Epoch 28 Loss: 0.7624783515930176\n",
      "Epoch 29 Loss: 0.8051172494888306\n",
      "Epoch 30 Loss: 0.7408544421195984\n",
      "Epoch 31 Loss: 0.8060106039047241\n",
      "Epoch 32 Loss: 0.7924327850341797\n",
      "Epoch 33 Loss: 0.7635414600372314\n",
      "Epoch 34 Loss: 0.7546555399894714\n",
      "Epoch 35 Loss: 0.7380754351615906\n",
      "Epoch 36 Loss: 0.740251362323761\n",
      "Epoch 37 Loss: 0.7454012036323547\n",
      "Epoch 38 Loss: 0.6902493238449097\n",
      "Epoch 39 Loss: 0.6815997958183289\n",
      "Epoch 40 Loss: 0.658550500869751\n",
      "Epoch 41 Loss: 0.657261848449707\n",
      "Epoch 42 Loss: 0.4968470335006714\n",
      "Epoch 43 Loss: 0.5616580247879028\n",
      "Epoch 44 Loss: 0.5218021273612976\n",
      "Epoch 45 Loss: 0.49900147318840027\n",
      "Epoch 46 Loss: 0.3712168335914612\n",
      "Epoch 47 Loss: 0.6313769221305847\n",
      "Epoch 48 Loss: 0.5459862947463989\n",
      "Epoch 49 Loss: 0.7726081013679504\n",
      "Epoch 50 Loss: 0.7931951284408569\n",
      "Epoch 51 Loss: 0.751550555229187\n",
      "Epoch 52 Loss: 0.7372125387191772\n",
      "Epoch 53 Loss: 0.7417905330657959\n",
      "Epoch 54 Loss: 0.7397873997688293\n",
      "Epoch 55 Loss: 0.6883440017700195\n",
      "Epoch 56 Loss: 0.6335992217063904\n",
      "Epoch 57 Loss: 0.7556706070899963\n",
      "Epoch 58 Loss: 0.7103275656700134\n",
      "Epoch 59 Loss: 0.7082545161247253\n",
      "Epoch 60 Loss: 0.6179536581039429\n",
      "Epoch 61 Loss: 0.6677674651145935\n",
      "Epoch 62 Loss: 0.6698711514472961\n",
      "Epoch 63 Loss: 0.692034125328064\n",
      "Epoch 64 Loss: 0.6658628582954407\n",
      "Epoch 65 Loss: 0.6751425266265869\n",
      "Epoch 66 Loss: 0.6421017050743103\n",
      "Epoch 67 Loss: 0.6825112104415894\n",
      "Epoch 68 Loss: 0.6644221544265747\n",
      "Epoch 69 Loss: 0.6393448114395142\n",
      "Epoch 70 Loss: 0.4811651110649109\n",
      "Epoch 71 Loss: 0.5160863399505615\n",
      "Epoch 72 Loss: 0.32097095251083374\n",
      "Epoch 73 Loss: 0.3704332709312439\n",
      "Epoch 74 Loss: 0.6661577224731445\n",
      "Epoch 75 Loss: 0.7286564111709595\n",
      "Epoch 76 Loss: 0.683587908744812\n",
      "Epoch 77 Loss: 0.6596662998199463\n",
      "Epoch 78 Loss: 0.6862341165542603\n",
      "Epoch 79 Loss: 0.6410000920295715\n",
      "Epoch 80 Loss: 0.6572116613388062\n",
      "Epoch 81 Loss: 0.6447199583053589\n",
      "Epoch 82 Loss: 0.5369070768356323\n",
      "Epoch 83 Loss: 0.45714038610458374\n",
      "Epoch 84 Loss: 0.5256819725036621\n",
      "Epoch 85 Loss: 0.49618029594421387\n",
      "Epoch 86 Loss: 0.3611329197883606\n",
      "Epoch 87 Loss: 0.4719389081001282\n",
      "Epoch 88 Loss: 0.6093729734420776\n",
      "Epoch 89 Loss: 0.6796329021453857\n",
      "Epoch 90 Loss: 0.6370434761047363\n",
      "Epoch 91 Loss: 0.6494191884994507\n",
      "Epoch 92 Loss: 0.6368698477745056\n",
      "Epoch 93 Loss: 0.6449505686759949\n",
      "Epoch 94 Loss: 0.6332085132598877\n",
      "Epoch 95 Loss: 0.6360405683517456\n",
      "Epoch 96 Loss: 0.6471377015113831\n",
      "Epoch 97 Loss: 0.5738213658332825\n",
      "Epoch 98 Loss: 0.2489984929561615\n",
      "Epoch 99 Loss: 0.25808417797088623\n"
     ]
    }
   ],
   "source": [
    "schedule_sampler = create_named_schedule_sampler('uniform', diffusion)\n",
    "\n",
    "TrainLoop(\n",
    "        model=model,\n",
    "        diffusion=diffusion,\n",
    "        data=data,\n",
    "        batch_size=batch_size,\n",
    "        microbatch=microbatch,\n",
    "        lr=lr,\n",
    "        ema_rate=ema_rate,\n",
    "        schedule_sampler=schedule_sampler,\n",
    "        weight_decay=weight_decay,\n",
    "        epochs=epochs,\n",
    "#         eval_data=data_valid,\n",
    "        eval_interval=eval_interval\n",
    "    ).run_loop()"
   ]
  },
  {
   "cell_type": "code",
   "execution_count": 26,
   "id": "99197091",
   "metadata": {},
   "outputs": [],
   "source": [
    "# pickle.dump(model, open(\"models/model_0204.pkl\", 'wb'))"
   ]
  },
  {
   "cell_type": "code",
   "execution_count": 27,
   "id": "e2881734-9e97-4947-9b4b-4b4766248ec3",
   "metadata": {},
   "outputs": [],
   "source": [
    "# with open('models/model_0204.pkl', 'rb') as handle:\n",
    "#     model = pickle.load(handle)"
   ]
  },
  {
   "cell_type": "markdown",
   "id": "6d3e555d-f030-4e34-80e5-d9214719a635",
   "metadata": {},
   "source": [
    "# Finetuning on only Shakespeare"
   ]
  },
  {
   "cell_type": "code",
   "execution_count": 28,
   "id": "f15cf584-0baa-4e4f-93ac-87f0853edc1e",
   "metadata": {},
   "outputs": [],
   "source": [
    "# model.eval().to(dist_util.dev())\n",
    "\n",
    "# model_emb = torch.nn.Embedding(\n",
    "#         num_embeddings=tokenizer.vocab_size, \n",
    "#         embedding_dim=hidden_dim, \n",
    "#         _weight=model.word_embedding.weight.clone().cpu()\n",
    "#     ).eval()"
   ]
  },
  {
   "cell_type": "code",
   "execution_count": 29,
   "id": "d4f84d6a",
   "metadata": {},
   "outputs": [],
   "source": [
    "# ss_data = load_data_text(\n",
    "#         batch_size=10,\n",
    "#         seq_len=seq_len,\n",
    "#         data_dir=ss_data_dir,\n",
    "#         loaded_vocab=tokenizer,\n",
    "#         model_emb=model_emb.cpu() # use model's weights as init\n",
    "#     )"
   ]
  },
  {
   "cell_type": "code",
   "execution_count": 30,
   "id": "36ed95f6-1f0b-4122-8e53-695d3832b098",
   "metadata": {
    "scrolled": true,
    "tags": []
   },
   "outputs": [],
   "source": [
    "# model.train() # TURNING THE TRAIN MODE BACK ON TO ENABLE BATCHNORM/DROPOUT!!\n",
    "\n",
    "# TrainLoop(\n",
    "#         model=model,\n",
    "#         diffusion=diffusion,\n",
    "#         data=ss_data,\n",
    "#         batch_size=batch_size,\n",
    "#         microbatch=microbatch,\n",
    "#         lr=lr,\n",
    "#         ema_rate=ema_rate,\n",
    "#         schedule_sampler=schedule_sampler,\n",
    "#         weight_decay=weight_decay,\n",
    "#         epochs=epochs,\n",
    "# #         eval_data=data_valid,\n",
    "#         eval_interval=eval_interval\n",
    "#     ).run_loop()"
   ]
  },
  {
   "cell_type": "markdown",
   "id": "cf9ad7e2-8b77-4cb1-b18b-64de7518214c",
   "metadata": {},
   "source": [
    "# Generating sequences"
   ]
  },
  {
   "cell_type": "code",
   "execution_count": 36,
   "id": "a91b1eae-db01-4aff-b0c4-52c568565e65",
   "metadata": {},
   "outputs": [],
   "source": [
    "import numpy as np\n",
    "device = dist_util.dev()\n",
    "\n",
    "def sampling(\n",
    "    model, \n",
    "    diffusion, \n",
    "    tokenizer, \n",
    "    device=device, \n",
    "    batch_size=16, \n",
    "    seq_len=128, \n",
    "    data_dir='data/',\n",
    "    sampling_step=1000, \n",
    "    diffusion_steps=1000,\n",
    "    clip_denoised=False, \n",
    "    model_kwargs={}, \n",
    "    top_p=0, \n",
    "    clamp_step=0):\n",
    "    \n",
    "    # ---- putting the model into eval mode ----\n",
    "    model.eval().to(device)\n",
    "    \n",
    "    hidden_dim = model.word_embedding.embedding_dim\n",
    "\n",
    "    model_emb = torch.nn.Embedding(\n",
    "            num_embeddings=tokenizer.vocab_size, \n",
    "            embedding_dim=hidden_dim, \n",
    "            _weight=model.word_embedding.weight.clone().cpu()\n",
    "        ).eval()\n",
    "    \n",
    "    # ---- getting test data ----\n",
    "\n",
    "    data_test = load_data_text(\n",
    "            batch_size=batch_size,\n",
    "            seq_len=seq_len,\n",
    "            deterministic=True,\n",
    "            data_dir=data_dir,\n",
    "            split=\"test\",\n",
    "            loaded_vocab=tokenizer,\n",
    "            model_emb=model_emb.cpu(),  # using the same embedding wight with tranining data\n",
    "            loop=False\n",
    "        )\n",
    "\n",
    "    all_test_data = []\n",
    "\n",
    "    try:\n",
    "        while True:\n",
    "            batch, cond = next(data_test)\n",
    "            # print(batch.shape)\n",
    "            all_test_data.append(cond)\n",
    "\n",
    "    except StopIteration:\n",
    "        print('### End of reading iteration...')\n",
    "\n",
    "    model_emb.to(device)\n",
    "    \n",
    "    # ---- iterating through the test data to generate sequences ----\n",
    "    iterator = iter(all_test_data)\n",
    "    word_lst_recover = []\n",
    "    word_lst_ref = []\n",
    "    word_lst_source = []\n",
    "\n",
    "    for cond in iterator:\n",
    "\n",
    "        input_ids_x = cond.pop('input_ids').to(device)\n",
    "        x_start = model.get_embeds(input_ids_x)\n",
    "        input_ids_mask = cond.pop('input_mask')\n",
    "        input_ids_mask_ori = input_ids_mask\n",
    "\n",
    "        noise = torch.randn_like(x_start)\n",
    "        input_ids_mask = torch.broadcast_to(input_ids_mask.unsqueeze(dim=-1), x_start.shape).to(device)\n",
    "        x_noised = torch.where(input_ids_mask == 0, x_start, noise)\n",
    "\n",
    "        model_kwargs = {}\n",
    "\n",
    "        if sampling_step == diffusion_steps:\n",
    "            use_ddim = False\n",
    "            step_gap = 1\n",
    "        else:\n",
    "            use_ddim = True\n",
    "            step_gap = diffusion_steps//sampling_step\n",
    "\n",
    "        sample_fn = (\n",
    "            diffusion.p_sample_loop if not use_ddim else diffusion.ddim_sample_loop\n",
    "        )\n",
    "\n",
    "        sample_shape = (x_start.shape[0], seq_len, hidden_dim)\n",
    "\n",
    "        samples = sample_fn(\n",
    "            model,\n",
    "            sample_shape,\n",
    "            noise=x_noised,\n",
    "            clip_denoised=clip_denoised,\n",
    "            denoised_fn=partial(denoised_fn_round, model_emb),\n",
    "            model_kwargs=model_kwargs,\n",
    "            top_p=top_p,\n",
    "            clamp_step=clamp_step,\n",
    "            clamp_first=True,\n",
    "            mask=input_ids_mask,\n",
    "            x_start=x_start,\n",
    "            gap=step_gap\n",
    "        )\n",
    "\n",
    "        # print(samples[0].shape) # samples for each step\n",
    "\n",
    "        sample = samples[-1]\n",
    "\n",
    "        # print('decoding for seq2seq', )\n",
    "        # print(sample.shape)\n",
    "\n",
    "        logits = model.get_logits(sample)  # bsz, seqlen, vocab\n",
    "        cands = torch.topk(logits, k=1, dim=-1)\n",
    "\n",
    "        for seq, input_mask in zip(cands.indices, input_ids_mask_ori):\n",
    "            len_x = seq_len - sum(input_mask).tolist()\n",
    "            tokens = tokenizer.decode_token(seq[len_x:])\n",
    "            word_lst_recover.append(tokens)\n",
    "\n",
    "        for seq, input_mask in zip(input_ids_x, input_ids_mask_ori):\n",
    "            # tokens = tokenizer.decode_token(seq)\n",
    "            len_x = seq_len - sum(input_mask).tolist()\n",
    "            word_lst_source.append(tokenizer.decode_token(seq[:len_x]))\n",
    "            word_lst_ref.append(tokenizer.decode_token(seq[len_x:]))\n",
    "        break # after 1 batch\n",
    "    return word_lst_source, word_lst_recover, word_lst_ref\n",
    "\n",
    "\n",
    "def get_efficient_knn(model_emb, text_emb):\n",
    "    emb_norm = (model_emb**2).sum(-1).view(-1, 1) # vocab\n",
    "    text_emb_t = torch.transpose(text_emb.view(-1, text_emb.size(-1)), 0, 1) # d, bsz*seqlen\n",
    "    arr_norm = (text_emb ** 2).sum(-1).view(-1, 1) # bsz*seqlen, 1\n",
    "    # print(emb_norm.shape, arr_norm.shape)\n",
    "    dist = emb_norm + arr_norm.transpose(0, 1) - 2.0 * torch.mm(model_emb, text_emb_t) # (vocab, d) x (d, bsz*seqlen)\n",
    "    dist = torch.clamp(dist, 0.0, np.inf)\n",
    "    # print(dist.shape)\n",
    "    topk_out = torch.topk(-dist, k=1, dim=0)\n",
    "    return topk_out.values, topk_out.indices\n",
    "\n",
    "def denoised_fn_round(model, text_emb, t):\n",
    "    # print(text_emb.shape) # bsz, seqlen, dim\n",
    "    model_emb = model.weight  # input_embs\n",
    "    # print(t)\n",
    "    old_shape = text_emb.shape\n",
    "    old_device = text_emb.device\n",
    "\n",
    "    if len(text_emb.shape) > 2:\n",
    "        text_emb = text_emb.reshape(-1, text_emb.size(-1))\n",
    "    else:\n",
    "        text_emb = text_emb\n",
    "    # val, indices = get_knn(model_emb, text_emb.to(model_emb.device), dist=dist)\n",
    "    val, indices = get_efficient_knn(model_emb, text_emb.to(model_emb.device))\n",
    "    rounded_tokens = indices[0]\n",
    "    # print(rounded_tokens.shape)\n",
    "    new_embeds = model(rounded_tokens).view(old_shape).to(old_device)\n",
    "\n",
    "    return new_embeds"
   ]
  },
  {
   "cell_type": "code",
   "execution_count": 33,
   "id": "8281777f-5364-4e31-a6fd-26ba4f0c98df",
   "metadata": {},
   "outputs": [
    {
     "data": {
      "text/plain": [
       "'data'"
      ]
     },
     "execution_count": 33,
     "metadata": {},
     "output_type": "execute_result"
    }
   ],
   "source": [
    "data_dir"
   ]
  },
  {
   "cell_type": "code",
   "execution_count": 34,
   "id": "3c4fbb63",
   "metadata": {},
   "outputs": [],
   "source": [
    "sampling_step = 1000\n",
    "clip_denoised = False\n",
    "model_kwargs = {}\n",
    "top_p = 0\n",
    "clamp_step = 0"
   ]
  },
  {
   "cell_type": "code",
   "execution_count": 37,
   "id": "98e82b32-6aba-47fe-8daf-07dcaa4fc938",
   "metadata": {
    "scrolled": true,
    "tags": []
   },
   "outputs": [
    {
     "name": "stdout",
     "output_type": "stream",
     "text": [
      "############################## \n",
      "Loading text data...\n",
      "############################## \n",
      "Loading dataset from data...\n",
      "### Loading form the TEST set...\n",
      "### Data samples...\n",
      " [\"proceed solinus to procure my fall <EOS> and by the doom of death end woes and all <EOS> therefore give out you are of epidamnum <EOS> lest that your goods too soon be confiscate <EOS> this very day a syracusian merchant <EOS> is apprehended for arrival here <EOS> and not be able to buy out his life <EOS> accord to the statute of the town <EOS> dies ere the weary sun set in the west <EOS> there is your money that i had to keep <EOS> antipholus <EOS> neither my husband nor the slave return'd <EOS> that in such haste i sent to seek his master! <EOS> sure luciana it is two o'clock <EOS> the gold i gave to dromio is laid up <EOS> safe at the centaur and the heedful slave <EOS> is wander'd forth in care to seek me out <EOS> by computation and mine host's report <EOS> i could not speak with dromio since at first <EOS> i sent him from the mart <EOS> see here he comes <EOS> enter dromio of syracuse <EOS> how now sir! is your merry humour alter'd? <EOS> as you love strokes so jest with me again <EOS> you know no centaur? you received no gold? <EOS> your mistress sent to have me home to dinner? <EOS> my house was at the phoenix? wast thou mad <EOS> that thus so madly thou didst answer me? <EOS> good signior angelo you must excuse us all <EOS> my wife is shrewish when i keep not hours: <EOS> say that i linger'd with you at your shop <EOS> to see the mak of her carcanet <EOS> and that to-morrow you will br it home <EOS> but here's a villain that would face me down <EOS> he met me on the mart and that i beat him <EOS> and charged him with a thousand marks in gold <EOS> and that i did deny my wife and house <EOS> thou drunkard thou what didst thou mean by this? <EOS> and may it be that you have quite forgot <EOS> a husband's office? shall antipholus <EOS> even in the spr of love thy love-springs rot? <EOS> shall love in build grow so ruinous? <EOS> if you did wed my sister for her wealth <EOS> then for her wealth's sake use her with more kindness: <EOS> or if you like elsewhere do it by stealth <EOS> muffle your false love with some show of blindness: <EOS> let not my sister read it in your eye <EOS> be not thy tongue thy own shame's orator <EOS> look sweet be fair become disloyalty <EOS> apparel vice like virtue's harbinger <EOS> bear a fair presence though your heart be tainted <EOS> teach sin the carriage of a holy saint <EOS> be secret-false: what need she be acquainted? <EOS> what simple thief brags of his own attaint? <EOS> 'tis double wrong to truant with your bed <EOS> and let her read it in thy looks at board: <EOS> shame hath a bastard fame well managed <EOS> ill d eeds are doubled with an evil word <EOS> alas poor women! make us but believe <EOS> be compact of credit that you love us <EOS> though others have the arm show us the sleeve <EOS> we in your motion turn and you may move us <EOS> then gentle brother get you in again <EOS> comfort my sister cheer her call her wife: <EOS> 'tis holy sport to be a little vain <EOS> when the sweet breath of flattery conquers strife <EOS> antipholus <EOS> you know since pentecost the sum is due <EOS> and since i have not much importuned you <EOS> nor now i had not but that i am bound <EOS> to persia and want guilders for my voyage: <EOS> therefore make present satisfaction <EOS> or i'll attach you by this officer <EOS> ah luciana did he tempt thee so? <EOS> mightst thou perceive austerely in his eye <EOS> that he did plead in earnest? yea or no? <EOS> look'd he or red or pale or sad or merrily? <EOS> what observation madest thou in this case <EOS> of his heart's meteors tilt in his face? <EOS> there's not a man i meet but doth salute me <EOS> as if i were their well-acquainted friend <EOS> and every one doth call me by my name <EOS> some tender money to me some invite me <EOS> some other give me thanks for kindnesses <EOS> some offer me commodities to buy: <EOS> even now a tailor call'd me in his shop <EOS> and show'd me silks that he had bought for me <EOS> and therewithal took measure of my body <EOS> sure these are but imaginary wiles <EOS> and lapland sorcerers inhabit here <EOS> enter dromio of syracuse <EOS> fear me not man i will not break away: <EOS> i'll give thee ere i leave thee so much money <EOS> to warrant thee as i am 'rested for <EOS> my wife is in a wayward mood to-day <EOS> and will not lightly trust the messenger <EOS> that i should be attach'd in ephesus <EOS> i tell you 'twill sound harshly in her ears <EOS> enter dromio of ephesus with a rope's-end <EOS> here comes my man i think he brings the money <EOS> how now sir! have you that i sent you for? <EOS> i am sorry sir that i have hinder'd you <EOS> but i protest he had the chain of me <EOS> though most dishonestly he doth deny it <EOS>  merchant of syracuse plead no more <EOS> i am not partial to infringe our laws: <EOS> the enmity and discord which of late <EOS> sprung from the rancorous outrage of your duke <EOS> to merchants our well-deal countrymen <EOS> who want guilders to redeem their lives <EOS> have seal'd his rigorous statutes with their bloods <EOS> excludes all pity from our threaten looks <EOS> for since the mortal and intestine jars <EOS> 'twixt thy seditious countrymen and us <EOS> it hath in solemn synods been decreed <EOS> both by the syracusians and ourselves <EOS> to admit no traffic to our adverse towns nay more <EOS> if any born at ephesus be seen <EOS> at any syracusian marts and fairs <EOS> again: if any syracusian born <EOS> come to the bay of ephesus he dies <EOS> his goods confiscate to the duke's dispose <EOS> unless a thousand marks be levied <EOS> to quit the penalty and to ransom him <EOS> thy substance valued at the highest rate <EOS> cannot amount unto a hundred marks <EOS> therefore by law thou art condemned to die <EOS> go bear it to the centaur where we host <EOS> and stay there dromio till i come to thee <EOS> within this hour it will be dinner-time: <EOS> till that i'll view the manners of the town <EOS> peruse the traders gaze upon the buildings <EOS> and then return and sleep within mine inn <EOS> for with long travel i am stiff and weary <EOS> get thee away <EOS> perhaps some merchant hath invited him <EOS> and from the mart he's somewhere gone to dinner <EOS> good sister let us dine and never fret: <EOS> a man is master of his liberty: <EOS> time is their master and when they see time <EOS> they'll go or come: if so be patient sister <EOS> what answer sir? when spake i such a word? <EOS> antipholus <EOS> say what you will sir but i know what i know <EOS> that you beat me at the mart i have your hand to show: <EOS> if the skin were parchment and the blows you gave were ink <EOS> your own handwrit would tell you what i think <EOS> antipholus <EOS> sweet mistress--what your name is else i know not <EOS> nor by what wonder you do hit of mine-- <EOS> less in your knowledge and your grace you show not <EOS> than our earth's wonder more than earth divine <EOS> teach me dear creature how to think and speak <EOS> lay open to my earthy-gross conceit <EOS> smother'd in errors feeble shallow weak <EOS> the folded mean of your words' deceit <EOS> against my soul's pure truth why labour you <EOS> to make it wander in an unknown field? <EOS> are you a god? would you create me new? <EOS> transform me then and to your power i'll yield <EOS> but if that i am i then well i know <EOS> your weep sister is no wife of mine <EOS> nor to her bed no homage do i owe <EOS> far more far more to you do i decline <EOS> o train me not sweet mermaid with thy note <EOS> to drown me in thy sister's flood of tears: <EOS> s siren for thyself and i will dote: <EOS> spread o'er the silver waves thy golden hairs <EOS> and as a bed i'll take them and there lie <EOS> and in that glorious supposition think <EOS> he gains by death that hath such means to die: <EOS> let love be light be drowned if she sink! <EOS> even just the sum that i do owe to you <EOS> is grow to me by antipholus <EOS> and in the instant that i met with you <EOS> he had of me a chain: at five o'clock <EOS> i shall receive the money for the same <EOS> pleaseth you walk with me down to his house <EOS> i will discharge my bond and thank you too <EOS> enter antipholus of ephesus and dromio of ephesus from the courtezan's <EOS> first he denied you had in him no right <EOS> master here's the gold you sent me for <EOS> what have <EOS> you got the picture of old adam new-apparelled? <EOS> antipholus <EOS> here's that i warrant you will pay them all <EOS> antipholus <EOS> how is the man esteemed here in the city? <EOS>  yet this my comfort: when your words are done <EOS> my woes end likewise with the even sun <EOS> many a man would take you at your word <EOS> and go indeed hav so good a mean <EOS> exit <EOS> antipholus <EOS> why should their liberty than ours be more? <EOS> even now even here not half an hour since <EOS> i think thou art an ass <EOS> what are you mad that you do reason so? <EOS> antipholus <EOS> that labour may you save: see where he comes <EOS> antipholus <EOS> he meant he did me none the more my spite <EOS> what gold is this? what adam dost thou mean? <EOS> but where's the money? <EOS> of very reverend reputation sir <EOS> of credit infinite highly beloved <EOS> second to none that lives here in the city: <EOS> his word might bear my wealth at any time <EOS>\", \"merchant of syracuse plead no more <EOS> i am not partial to infringe our laws: <EOS> the enmity and discord which of late <EOS> sprung from the rancorous outrage of your duke <EOS> to merchants our well-deal countrymen <EOS> who want guilders to redeem their lives <EOS> have seal'd his rigorous statutes with their bloods <EOS> excludes all pity from our threaten looks <EOS> for since the mortal and intestine jars <EOS> 'twixt thy seditious countrymen and us <EOS> it hath in solemn synods been decreed <EOS> both by the syracusians and ourselves <EOS> to admit no traffic to our adverse towns nay more <EOS> if any born at ephesus be seen <EOS> at any syracusian marts and fairs <EOS> again: if any syracusian born <EOS> come to the bay of ephesus he dies <EOS> his goods confiscate to the duke's dispose <EOS> unless a thousand marks be levied <EOS> to quit the penalty and to ransom him <EOS> thy substance valued at the highest rate <EOS> cannot amount unto a hundred marks <EOS> therefore by law thou art condemned to die <EOS> go bear it to the centaur where we host <EOS> and stay there dromio till i come to thee <EOS> within this hour it will be dinner-time: <EOS> till that i'll view the manners of the town <EOS> peruse the traders gaze upon the buildings <EOS> and then return and sleep within mine inn <EOS> for with long travel i am stiff and weary <EOS> get thee away <EOS> perhaps some merchant hath invited him <EOS> and from the mart he's somewhere gone to dinner <EOS> good sister let us dine and never fret: <EOS> a man is master of his liberty: <EOS> time is their master and when they see time <EOS> they'll go or come: if so be patient sister <EOS> what answer sir? when spake i such a word? <EOS> antipholus <EOS> say what you will sir but i know what i know <EOS> that you beat me at the mart i have your hand to show: <EOS> if the skin were parchment and the blows you gave were ink <EOS> your own handwrit would tell you what i think <EOS> antipholus <EOS> sweet mistress--what your name is else i know not <EOS> nor by what wonder you do hit of mine-- <EOS> less in your knowledge and your grace you show not <EOS> than our earth's wonder more than earth divine <EOS> teach me dear creature how to think and speak <EOS> lay open to my earthy-gross conceit <EOS> smother'd in errors feeble shallow weak <EOS> the folded mean of your words' deceit <EOS> against my soul's pure truth why labour you <EOS> to make it wander in an unknown field? <EOS> are you a god? would you create me new? <EOS> transform me then and to your power i'll yield <EOS> but if that i am i then well i know <EOS> your weep sister is no wife of mine <EOS> nor to her bed no homage do i owe <EOS> far more far more to you do i decline <EOS> o train me not sweet mermaid with thy note <EOS> to drown me in thy sister's flood of tears: <EOS> s siren for thyself and i will dote: <EOS> spread o'er the silver waves thy golden hairs <EOS> and as a bed i'll take them and there lie <EOS> and in that glorious supposition think <EOS> he gains by death that hath such means to die: <EOS> let love be light be drowned if she sink! <EOS> even just the sum that i do owe to you <EOS> is grow to me by antipholus <EOS> and in the instant that i met with you <EOS> he had of me a chain: at five o'clock <EOS> i shall receive the money for the same <EOS> pleaseth you walk with me down to his house <EOS> i will discharge my bond and thank you too <EOS> enter antipholus of ephesus and dromio of ephesus from the courtezan's <EOS> first he denied you had in him no right <EOS> master here's the gold you sent me for <EOS> what have <EOS> you got the picture of old adam new-apparelled? <EOS> antipholus <EOS> here's that i warrant you will pay them all <EOS> antipholus <EOS> how is the man esteemed here in the city? <EOS>  yet this my comfort: when your words are done <EOS> my woes end likewise with the even sun <EOS> many a man would take you at your word <EOS> and go indeed hav so good a mean <EOS> exit <EOS> antipholus <EOS> why should their liberty than ours be more? <EOS> even now even here not half an hour since <EOS> i think thou art an ass <EOS> what are you mad that you do reason so? <EOS> antipholus <EOS> that labour may you save: see where he comes <EOS> antipholus <EOS> he meant he did me none the more my spite <EOS> what gold is this? what adam dost thou mean? <EOS> but where's the money? <EOS> of very reverend reputation sir <EOS> of credit infinite highly beloved <EOS> second to none that lives here in the city: <EOS> his word might bear my wealth at any time <EOS>  well syracusian say in brief the cause <EOS> why thou departed'st from thy native home <EOS> and for what cause thou camest to ephesus <EOS> a trusty villain sir that very oft <EOS> when i am dull with care and melancholy <EOS> lightens my humour with his merry jests <EOS> what will you walk with me about the town <EOS> and then go to my inn and dine with me? <EOS> because their business still lies out o' door <EOS> i did not see you since you sent me hence <EOS> home to the centaur with the gold you gave me <EOS> antipholus <EOS> marry so it doth appear <EOS> by the wrongs i suffer and the blows i bear <EOS> i should kick be kick'd and be at that pass <EOS> you would keep from my heels and beware of an ass <EOS> antipholus <EOS> not mad but mated how i do not know <EOS> while i go to the goldsmith's house go thou <EOS> and buy a rope's end: that will i bestow <EOS> among my wife and her confederates <EOS> for lock me out of my doors by day <EOS> but soft! i see the goldsmith <EOS> get thee gone <EOS> buy thou a rope and br it home to me <EOS> then swore he that he was a stranger here <EOS> not that adam that kept the paradise but that adam <EOS> that keeps the prison: he that goes in the calf's <EOS> skin that was killed for the prodigal he that came <EOS> behind you sir like an evil angel and bid you <EOS> forsake your liberty <EOS> antipholus <EOS> why sir i gave the money for the rope <EOS> antipholus <EOS> speak softly yonder as i think he walks <EOS> enter antipholus of syracuse and dromio of syracuse <EOS>\"] [\"well syracusian say in brief the cause <EOS> why thou departed'st from thy native home <EOS> and for what cause thou camest to ephesus <EOS> a trusty villain sir that very oft <EOS> when i am dull with care and melancholy <EOS> lightens my humour with his merry jests <EOS> what will you walk with me about the town <EOS> and then go to my inn and dine with me? <EOS> because their business still lies out o' door <EOS> i did not see you since you sent me hence <EOS> home to the centaur with the gold you gave me <EOS> antipholus <EOS> marry so it doth appear <EOS> by the wrongs i suffer and the blows i bear <EOS> i should kick be kick'd and be at that pass <EOS> you would keep from my heels and beware of an ass <EOS> antipholus <EOS> not mad but mated how i do not know <EOS> while i go to the goldsmith's house go thou <EOS> and buy a rope's end: that will i bestow <EOS> among my wife and her confederates <EOS> for lock me out of my doors by day <EOS> but soft! i see the goldsmith <EOS> get thee gone <EOS> buy thou a rope and br it home to me <EOS> then swore he that he was a stranger here <EOS> not that adam that kept the paradise but that adam <EOS> that keeps the prison: he that goes in the calf's <EOS> skin that was killed for the prodigal he that came <EOS> behind you sir like an evil angel and bid you <EOS> forsake your liberty <EOS> antipholus <EOS> why sir i gave the money for the rope <EOS> antipholus <EOS> speak softly yonder as i think he walks <EOS> enter antipholus of syracuse and dromio of syracuse <EOS>  a heavier task could not have been imposed <EOS> than i to speak my griefs unspeakable: <EOS> yet that the world may witness that my end <EOS> was wrought by nature not by vile offence <EOS> i'll utter what my sorrows give me leave <EOS> in syracusa was i born and wed <EOS> unto a woman happy but for me <EOS> and by me had not our hap been bad <EOS> with her i lived in joy our wealth increased <EOS> by prosperous voyages i often made <EOS> to epidamnum till my factor's death <EOS> and the great care of goods at random left <EOS> drew me from kind embracements of my spouse: <EOS> from whom my absence was not six months old <EOS> before herself almost at faint under <EOS> the pleas punishment that women bear <EOS> had made provision for her follow me <EOS> and soon and safe arrived where i was <EOS> there had she not been long but she became <EOS> a joyful mother of two goodly sons <EOS> and which was strange the one so like the other <EOS> as could not be distinguish'd but by names <EOS> that very hour and in the self-same inn <EOS> a meaner woman was delivered <EOS> of such a burden male twins both alike: <EOS> those--for their parents were exceed poor-- <EOS> i bought and brought up to attend my sons <EOS> my wife not meanly proud of two such boys <EOS> made daily motions for our home return: <EOS> unwill i agreed <EOS> alas! too soon <EOS> we came aboard <EOS> a league from epidamnum had we sail'd <EOS> before the always wind-obey deep <EOS> gave any tragic instance of our harm: <EOS> but longer did we not retain much hope <EOS> for what obscured light the heavens did grant <EOS> did but convey unto our fearful minds <EOS> a doubtful warrant of immediate death <EOS> which though myself would gladly have embraced <EOS> yet the incessant weepings of my wife <EOS> weep before for what she saw must come <EOS> and piteous plainings of the pretty babes <EOS> that mourn'd for fashion ignorant what to fear <EOS> forced me to seek delays for them and me <EOS> and this it was for other means was none: <EOS> the sailors sought for safety by our boat <EOS> and left the ship then sink ripe to us: <EOS> my wife more careful for the latter-born <EOS> had fasten'd him unto a small spare mast <EOS> such as seafar men provide for storms <EOS> to him one of the other twins was bound <EOS> whilst i had been like heedful of the other: <EOS> the children thus disposed my wife and i <EOS> fix our eyes on whom our care was fix'd <EOS> fasten'd ourselves at either end the mast <EOS> and float straight obedient to the stream <EOS> was carried towards corinth as we thought <EOS> at length the sun gaz upon the earth <EOS> dispersed those vapours that offended us <EOS> and by the benefit of his wished light <EOS> the seas wax'd calm and we discovered <EOS> two ships from far mak amain to us <EOS> of corinth that of epidaurus this: <EOS> but ere they came--o let me say no more! <EOS> gather the sequel by that went before <EOS> i am invited sir to certain merchants <EOS> of whom i hope to make much benefit <EOS> i crave your pardon <EOS> soon at five o'clock <EOS> please you i'll meet with you upon the mart <EOS> and afterward consort you till bed-time: <EOS> my present business calls me from you now <EOS> antipholus <EOS> look when i serve him so he takes it ill <EOS> villain thou didst deny the gold's receipt <EOS> and told'st me of a mistress and a dinner <EOS> for which i hope thou felt'st i was displeased <EOS> you're sad signior balthazar: pray god our cheer <EOS> may answer my good will and your good welcome here <EOS> it is a fault that springeth from your eye <EOS> antipholus <EOS> i buy a thousand pound a year: i buy a rope <EOS> exit <EOS> antipholus <EOS> and true he swore though yet forsworn he were <EOS> i understand thee not <EOS> five hundred ducats villain for a rope? <EOS> 'tis so and that self chain about his neck <EOS> which he forswore most monstrously to have <EOS> good sir draw near to me i'll speak to him <EOS> signior antipholus i wonder much <EOS> that you would put me to this shame and trouble <EOS> and not without some scandal to yourself <EOS> with circumstance and oaths so to deny <EOS> this chain which now you wear so openly: <EOS> beside the charge the shame imprisonment <EOS> you have done wrong to this my honest friend <EOS> who but for stay on our controversy <EOS> had hoisted sail and put to sea to-day: <EOS> this chain you had of me can you deny it? <EOS> antipholus <EOS>  nay forward old man do not break off so <EOS> for we may pity though not pardon thee <EOS> farewell till then: i will go lose myself <EOS> and wander up and down to view the city <EOS> o know he is the bridle of your will <EOS> i am glad to see you in this merry vein: <EOS> what means this jest? i pray you master tell me <EOS> antipholus <EOS> i hold your dainties cheap sir and your <EOS> welcome dear <EOS> antipholus <EOS> for gaz on your beams fair sun be by <EOS> a man is well holp up that trusts to you: <EOS> i promised your presence and the chain <EOS> but neither chain nor goldsmith came to me <EOS> belike you thought our love would last too long <EOS> if it were chain'd together and therefore came not <EOS> then pleaded i for you <EOS> no? why 'tis a plain case: he that went like a <EOS> bass-viol in a case of leather the man sir <EOS> that when gentlemen are tired gives them a sob <EOS> and 'rests them he sir that takes pity on decayed <EOS> men and gives them suits of durance he that sets up <EOS> his rest to do more exploits with his mace than a <EOS> morris-pike <EOS> antipholus <EOS> i'll serve you sir five hundred at the rate <EOS> antipholus <EOS> i think i had i never did deny it <EOS>\", \"a heavier task could not have been imposed <EOS> than i to speak my griefs unspeakable: <EOS> yet that the world may witness that my end <EOS> was wrought by nature not by vile offence <EOS> i'll utter what my sorrows give me leave <EOS> in syracusa was i born and wed <EOS> unto a woman happy but for me <EOS> and by me had not our hap been bad <EOS> with her i lived in joy our wealth increased <EOS> by prosperous voyages i often made <EOS> to epidamnum till my factor's death <EOS> and the great care of goods at random left <EOS> drew me from kind embracements of my spouse: <EOS> from whom my absence was not six months old <EOS> before herself almost at faint under <EOS> the pleas punishment that women bear <EOS> had made provision for her follow me <EOS> and soon and safe arrived where i was <EOS> there had she not been long but she became <EOS> a joyful mother of two goodly sons <EOS> and which was strange the one so like the other <EOS> as could not be distinguish'd but by names <EOS> that very hour and in the self-same inn <EOS> a meaner woman was delivered <EOS> of such a burden male twins both alike: <EOS> those--for their parents were exceed poor-- <EOS> i bought and brought up to attend my sons <EOS> my wife not meanly proud of two such boys <EOS> made daily motions for our home return: <EOS> unwill i agreed <EOS> alas! too soon <EOS> we came aboard <EOS> a league from epidamnum had we sail'd <EOS> before the always wind-obey deep <EOS> gave any tragic instance of our harm: <EOS> but longer did we not retain much hope <EOS> for what obscured light the heavens did grant <EOS> did but convey unto our fearful minds <EOS> a doubtful warrant of immediate death <EOS> which though myself would gladly have embraced <EOS> yet the incessant weepings of my wife <EOS> weep before for what she saw must come <EOS> and piteous plainings of the pretty babes <EOS> that mourn'd for fashion ignorant what to fear <EOS> forced me to seek delays for them and me <EOS> and this it was for other means was none: <EOS> the sailors sought for safety by our boat <EOS> and left the ship then sink ripe to us: <EOS> my wife more careful for the latter-born <EOS> had fasten'd him unto a small spare mast <EOS> such as seafar men provide for storms <EOS> to him one of the other twins was bound <EOS> whilst i had been like heedful of the other: <EOS> the children thus disposed my wife and i <EOS> fix our eyes on whom our care was fix'd <EOS> fasten'd ourselves at either end the mast <EOS> and float straight obedient to the stream <EOS> was carried towards corinth as we thought <EOS> at length the sun gaz upon the earth <EOS> dispersed those vapours that offended us <EOS> and by the benefit of his wished light <EOS> the seas wax'd calm and we discovered <EOS> two ships from far mak amain to us <EOS> of corinth that of epidaurus this: <EOS> but ere they came--o let me say no more! <EOS> gather the sequel by that went before <EOS> i am invited sir to certain merchants <EOS> of whom i hope to make much benefit <EOS> i crave your pardon <EOS> soon at five o'clock <EOS> please you i'll meet with you upon the mart <EOS> and afterward consort you till bed-time: <EOS> my present business calls me from you now <EOS> antipholus <EOS> look when i serve him so he takes it ill <EOS> villain thou didst deny the gold's receipt <EOS> and told'st me of a mistress and a dinner <EOS> for which i hope thou felt'st i was displeased <EOS> you're sad signior balthazar: pray god our cheer <EOS> may answer my good will and your good welcome here <EOS> it is a fault that springeth from your eye <EOS> antipholus <EOS> i buy a thousand pound a year: i buy a rope <EOS> exit <EOS> antipholus <EOS> and true he swore though yet forsworn he were <EOS> i understand thee not <EOS> five hundred ducats villain for a rope? <EOS> 'tis so and that self chain about his neck <EOS> which he forswore most monstrously to have <EOS> good sir draw near to me i'll speak to him <EOS> signior antipholus i wonder much <EOS> that you would put me to this shame and trouble <EOS> and not without some scandal to yourself <EOS> with circumstance and oaths so to deny <EOS> this chain which now you wear so openly: <EOS> beside the charge the shame imprisonment <EOS> you have done wrong to this my honest friend <EOS> who but for stay on our controversy <EOS> had hoisted sail and put to sea to-day: <EOS> this chain you had of me can you deny it? <EOS> antipholus <EOS>  nay forward old man do not break off so <EOS> for we may pity though not pardon thee <EOS> farewell till then: i will go lose myself <EOS> and wander up and down to view the city <EOS> o know he is the bridle of your will <EOS> i am glad to see you in this merry vein: <EOS> what means this jest? i pray you master tell me <EOS> antipholus <EOS> i hold your dainties cheap sir and your <EOS> welcome dear <EOS> antipholus <EOS> for gaz on your beams fair sun be by <EOS> a man is well holp up that trusts to you: <EOS> i promised your presence and the chain <EOS> but neither chain nor goldsmith came to me <EOS> belike you thought our love would last too long <EOS> if it were chain'd together and therefore came not <EOS> then pleaded i for you <EOS> no? why 'tis a plain case: he that went like a <EOS> bass-viol in a case of leather the man sir <EOS> that when gentlemen are tired gives them a sob <EOS> and 'rests them he sir that takes pity on decayed <EOS> men and gives them suits of durance he that sets up <EOS> his rest to do more exploits with his mace than a <EOS> morris-pike <EOS> antipholus <EOS> i'll serve you sir five hundred at the rate <EOS> antipholus <EOS> i think i had i never did deny it <EOS>  o had the gods done so i had not now <EOS> worthily term'd them merciless to us! <EOS> for ere the ships could meet by twice five leagues <EOS> we were encounterd by a mighty rock <EOS> which be violently borne upon <EOS> our helpful ship was splitted in the midst <EOS> so that in this unjust divorce of us <EOS> fortune had left to both of us alike <EOS> what to delight in what to sorrow for <EOS> her part poor soul! seem as burdened <EOS> with lesser weight but not with lesser woe <EOS> was carried with more speed before the wind <EOS> and in our sight they three were taken up <EOS> by fishermen of corinth as we thought <EOS> at length another ship had seized on us <EOS> and know whom it was their hap to save <EOS> gave healthful welcome to their shipwreck'd guests <EOS> and would have reft the fishers of their prey <EOS> had not their bark been very slow of sail <EOS> and therefore homeward did they bend their course <EOS> thus have you heard me sever'd from my bliss <EOS> that by misfortunes was my life prolong'd <EOS> to tell sad stories of my own mishaps <EOS> sir i commend you to your own content <EOS> exit <EOS> antipholus <EOS> there's none but asses will be bridled so <EOS> yea dost thou jeer and flout me in the teeth? <EOS> think'st thou i jest? hold take thou that and that <EOS> beat him <EOS> o signior balthazar either at flesh or fish <EOS> a table full of welcome make scarce one dainty dish <EOS> gaze where you should and that will clear your sight <EOS> antipholus <EOS> sav your merry humour here's the note <EOS> how much your chain weighs to the utmost carat <EOS> the fineness of the gold and chargeful fashion <EOS> which doth amount to three odd ducats more <EOS> than i stand debted to this gentleman: <EOS> i pray you see him presently discharged <EOS> for he is bound to sea and stays but for it <EOS> antipholus <EOS> and what said he? <EOS> what thou meanest an officer? <EOS> to what end did i bid thee hie thee home? <EOS> yes that you did sir and forswore it too <EOS> antipholus <EOS>\"]\n",
      "RAM used: 3076.21 MB\n",
      "This is raw_datasets:  Dataset({\n",
      "    features: ['src', 'trg'],\n",
      "    num_rows: 5083\n",
      "})\n",
      "RAM used: 3105.59 MB\n"
     ]
    },
    {
     "data": {
      "application/vnd.jupyter.widget-view+json": {
       "model_id": "4b440d971b734597bc767d1f783010b9",
       "version_major": 2,
       "version_minor": 0
      },
      "text/plain": [
       "Running tokenizer on dataset (num_proc=4):   0%|          | 0/5083 [00:00<?, ? examples/s]"
      ]
     },
     "metadata": {},
     "output_type": "display_data"
    },
    {
     "name": "stdout",
     "output_type": "stream",
     "text": [
      "### tokenized_datasets Dataset({\n",
      "    features: ['input_id_x', 'input_id_y'],\n",
      "    num_rows: 5083\n",
      "})\n",
      "### tokenized_datasets...example [2, 1672, 13682, 94, 6298, 111, 704, 21, 84, 22, 90, 195, 83, 2928, 100, 454, 678, 3699, 90, 192, 21, 84, 22, 582, 353, 321, 95, 206, 100, 10631, 21, 84, 22, 1581, 116, 141, 5487, 344, 1237, 108, 11563, 21, 84, 22, 149, 506, 390, 26, 10571, 4200, 21, 84, 22, 126, 9739, 121, 11517, 252, 21, 84, 22, 90, 131, 108, 3085, 94, 2110, 321, 148, 476, 21, 84, 22, 2679, 94, 83, 13799, 100, 83, 1496, 21, 84, 22, 1935, 821, 83, 2565, 1037, 650, 109, 83, 2468, 21, 84, 22, 218, 126, 141, 1340, 116, 34, 335, 94, 595, 21, 84, 22, 1207, 21, 84, 22, 1351, 111, 844, 383, 83, 1738, 998, 7, 29, 21, 84, 22, 116, 109, 349, 1447, 34, 924, 94, 1060, 148, 452, 5, 21, 84, 22, 869, 7797, 137, 126, 542, 40, 7, 2239, 21, 84, 22, 83, 919, 34, 1184, 94, 3009, 126, 2189, 221, 21, 84, 22, 1815, 214, 83, 10590, 90, 83, 12337, 1738, 21, 84, 22, 126, 3618, 7, 29, 808, 109, 1029, 94, 1060, 125, 321, 21, 84, 22, 195, 17812, 90, 397, 1634, 7, 44, 1353, 21, 84, 22, 34, 554, 131, 348, 133, 3009, 753, 214, 627, 21, 84, 22, 34, 924, 159, 241, 83, 3182, 21, 84, 22, 273, 252, 110, 591, 21, 84, 22, 245, 3009, 100, 4909, 21, 84, 22, 268, 229, 234, 5, 126, 141, 1534, 2043, 5352, 7, 29, 23, 21, 84, 22, 143, 95, 279, 5509, 152, 1713, 133, 125, 357, 21, 84, 22, 95, 261, 101, 10590, 23, 95, 2309, 101, 919, 23, 21, 84, 22, 141, 714, 924, 94, 156, 125, 857, 94, 2199, 23, 21, 84, 22, 111, 577, 259, 214, 83, 7960, 23, 2174, 145, 307, 21, 84, 22, 116, 516, 152, 7393, 145, 1393, 726, 125, 23, 21, 84, 22, 219, 1664, 2060, 95, 336, 2598, 296, 192, 21, 84, 22, 111, 681, 126, 15715, 284, 34, 595, 131, 1728, 1, 21, 84, 22, 285, 116, 34, 9211, 7, 29, 133, 95, 214, 141, 6813, 21, 84, 22, 94, 273, 83, 492, 54, 100, 179, 30293, 21, 84, 22, 90, 116, 94, 11, 899, 95, 165, 222, 137, 857, 21, 84, 22, 150, 252, 7, 44, 26, 1050, 116, 254, 780, 125, 545, 21, 84, 22, 110, 1139, 125, 158, 83, 3182, 90, 116, 34, 990, 159, 21, 84, 22, 90, 4201, 159, 133, 26, 909, 3911, 109, 919, 21, 84, 22, 90, 116, 34, 303, 1619, 111, 681, 90, 577, 21, 84, 22, 145, 7529, 145, 175, 1393, 145, 538, 195, 149, 23, 21, 84, 22, 90, 310, 137, 108, 116, 95, 156, 2343, 2265, 21, 84, 22, 26, 844, 7, 44, 1736, 23, 197, 1207, 21, 84, 22, 583, 109, 83, 3198, 100, 279, 187, 279, 11, 7249, 5315, 23, 21, 84, 22, 197, 279, 109, 3551, 1114, 152, 11085, 23, 21, 84, 22, 200, 95, 303, 1808, 111, 1166, 121, 179, 2367, 21, 84, 22, 271, 121, 179, 2367, 7, 44, 1456, 926, 179, 133, 262, 2898, 1, 21, 84, 22, 226, 200, 95, 300, 10174, 157, 137, 195, 8605, 21, 84, 22, 16126, 141, 913, 279, 133, 334, 586, 100, 13599, 1, 21, 84, 22, 231, 131, 111, 1166, 858, 137, 109, 141, 774, 21, 84, 22, 108, 131, 187, 785, 187, 517, 915, 7, 44, 8067, 21, 84, 22, 380, 484, 108, 442, 1649, 19646, 21, 84, 22, 4063, 3225, 300, 1296, 7, 44, 16467, 21, 84, 22, 522, 26, 442, 1943, 587, 141, 366, 108, 6787, 21, 84, 22, 1627, 1238, 83, 5855, 100, 26, 1275, 1636, 21, 84, 22, 108, 1859, 11, 913, 1, 175, 815, 230, 108, 4086, 23, 21, 84, 22, 175, 2282, 2751, 10171, 100, 148, 517, 10977, 23, 21, 84, 22, 7, 345, 2375, 851, 94, 7435, 133, 141, 777, 21, 84, 22, 90, 231, 179, 858, 137, 109, 187, 1258, 214, 4731, 1, 21, 84, 22, 915, 297, 26, 1836, 2717, 270, 17341, 21, 84, 22, 988, 29, 20678, 206, 11013, 133, 168, 2977, 461, 21, 84, 22, 1169, 569, 1363, 5, 317, 296, 150, 1121, 21, 84, 22, 108, 7132, 100, 3209, 116, 95, 279, 296, 21, 84, 22, 587, 1320, 156, 83, 534, 586, 296, 83, 5428, 21, 84, 22, 139, 109, 141, 2488, 734, 90, 95, 310, 1983, 296, 21, 84, 22, 271, 441, 533, 933, 95, 109, 357, 21, 84, 22, 1127, 111, 1166, 1843, 179, 465, 179, 681, 1, 21, 84, 22, 7, 345, 1275, 1618, 94, 108, 26, 696, 2173, 21, 84, 22, 284, 83, 484, 879, 100, 5568, 15551, 4458, 21, 84, 22, 1207, 21, 84, 22, 95, 261, 753, 16064, 83, 1435, 126, 2446, 21, 84, 22, 90, 753, 34, 156, 131, 424, 10336, 95, 21, 84, 22, 383, 229, 34, 335, 131, 150, 116, 34, 228, 1192, 21, 84, 22, 94, 23941, 90, 1106, 19081, 121, 111, 5437, 1, 21, 84, 22, 582, 317, 763, 4475, 21, 84, 22, 226, 34, 7, 251, 8507, 95, 195, 149, 3043, 21, 84, 22, 1470, 7797, 303, 110, 3038, 213, 152, 23, 21, 84, 22, 5098, 145, 2163, 20035, 109, 148, 774, 21, 84, 22, 116, 110, 303, 2895, 109, 3216, 23, 1394, 226, 101, 23, 21, 84, 22, 380, 7, 29, 110, 226, 1451, 226, 1662, 226, 1234, 226, 5764, 23, 21, 84, 22, 175, 8644, 10063, 145, 109, 149, 2021, 21, 84, 22, 100, 148, 366, 7, 44, 11483, 12838, 109, 148, 780, 23, 21, 84, 22, 218, 7, 44, 131, 26, 220, 34, 795, 150, 493, 5563, 125, 21, 84, 22, 143, 200, 34, 326, 283, 270, 11, 4086, 729, 21, 84, 22, 90, 659, 302, 493, 465, 125, 195, 111, 546, 21, 84, 22, 334, 1426, 1340, 94, 125, 334, 5885, 125, 21, 84, 22, 334, 466, 353, 125, 1377, 121, 13727, 21, 84, 22, 334, 1993, 125, 16039, 94, 2110, 1, 21, 84, 22, 583, 229, 26, 4482, 465, 7, 29, 125, 109, 148, 6813, 21, 84, 22, 90, 586, 7, 29, 125, 13361, 116, 110, 335, 3181, 121, 125, 21, 84, 22, 90, 9282, 1472, 2161, 100, 111, 1014, 21, 84, 22, 869, 354, 206, 150, 11253, 17083, 21, 84, 22, 90, 26663, 16345, 8294, 252, 21, 84, 22, 245, 3009, 100, 4909, 21, 84, 22, 471, 125, 131, 220, 34, 165, 131, 905, 485, 1, 21, 84, 22, 34, 7, 251, 353, 213, 821, 34, 550, 213, 152, 424, 1340, 21, 84, 22, 94, 1328, 213, 143, 34, 228, 7, 10998, 121, 21, 84, 22, 111, 681, 126, 109, 26, 7129, 4104, 94, 11, 390, 21, 84, 22, 90, 165, 131, 7788, 1217, 83, 1588, 21, 84, 22, 116, 34, 315, 108, 8507, 7, 29, 109, 4009, 21, 84, 22, 34, 384, 95, 7, 2703, 942, 15913, 109, 179, 1439, 21, 84, 22, 245, 3009, 100, 4009, 133, 26, 6422, 7, 44, 11, 678, 21, 84, 22, 252, 591, 111, 220, 34, 379, 110, 3323, 83, 1340, 21, 84, 22, 268, 229, 234, 5, 156, 95, 116, 34, 924, 95, 121, 23, 21, 84, 22, 34, 228, 2211, 234, 116, 34, 156, 7259, 7, 29, 95, 21, 84, 22, 150, 34, 2649, 110, 335, 83, 2761, 100, 125, 21, 84, 22, 587, 386, 19668, 110, 493, 1619, 137, 21, 84, 22, 4200, 100, 4909, 2895, 101, 262, 21, 84, 22, 34, 228, 131, 10120, 94, 12677, 211, 4213, 1, 21, 84, 22, 83, 6134, 90, 5703, 269, 100, 1181, 21, 84, 22, 9174, 241, 83, 12576, 6124, 100, 141, 570, 21, 84, 22, 94, 8744, 211, 270, 11, 2368, 3810, 21, 84, 22, 341, 1106, 19081, 94, 5137, 283, 1316, 21, 84, 22, 156, 1853, 7, 29, 148, 13993, 8250, 133, 283, 6643, 21, 84, 22, 30104, 192, 1176, 241, 211, 7534, 1258, 21, 84, 22, 121, 753, 83, 1804, 90, 18141, 9329, 21, 84, 22, 7, 2538, 187, 19351, 3810, 90, 296, 21, 84, 22, 137, 297, 109, 2654, 28505, 530, 9129, 21, 84, 22, 600, 195, 83, 27738, 90, 1840, 21, 84, 22, 94, 3712, 101, 8308, 94, 211, 7757, 4471, 592, 262, 21, 84, 22, 200, 496, 1005, 214, 4009, 108, 1068, 21, 84, 22, 214, 496, 10571, 25931, 90, 11944, 21, 84, 22, 357, 1, 200, 496, 10571, 1005, 21, 84, 22, 248, 94, 83, 4416, 100, 4009, 110, 1935, 21, 84, 22, 148, 5487, 11563, 94, 83, 570, 7, 44, 5252, 21, 84, 22, 1550, 26, 909, 3911, 108, 7278, 21, 84, 22, 94, 3146, 83, 7843, 90, 94, 3008, 159, 21, 84, 22, 187, 4210, 7151, 214, 83, 6872, 4926, 21, 84, 22, 520, 8429, 751, 26, 1844, 3911, 21, 84, 22, 582, 195, 895, 145, 445, 3817, 94, 699, 21, 84, 22, 189, 522, 137, 94, 83, 10590, 306, 139, 1634, 21, 84, 22, 90, 677, 218, 3009, 578, 34, 248, 94, 213, 21, 84, 22, 692, 149, 713, 137, 165, 108, 2199, 11, 413, 1, 21, 84, 22, 578, 116, 34, 7, 251, 2322, 83, 2670, 100, 83, 1496, 21, 84, 22, 7115, 83, 14015, 5130, 311, 83, 12388, 21, 84, 22, 90, 271, 998, 90, 846, 692, 397, 6376, 21, 84, 22, 121, 133, 560, 4369, 34, 228, 6180, 90, 2565, 21, 84, 22, 933, 213, 485, 21, 84, 22, 3489, 334, 4200, 297, 9078, 159, 21, 84, 22, 90, 241, 83, 3182, 110, 7, 44, 16038, 721, 94, 2199, 21, 84, 22, 219, 1166, 231, 296, 5039, 90, 425, 4318, 1, 21, 84, 22, 26, 220, 126, 452, 100, 148, 2597, 1, 21, 84, 22, 413, 126, 283, 452, 90, 284, 249, 273, 413, 21, 84, 22, 249, 7, 251, 189, 226, 248, 1, 200, 152, 108, 1958, 1166, 21, 84, 22, 175, 726, 234, 23, 284, 3237, 34, 349, 26, 461, 23, 21, 84, 22, 1207, 21, 84, 22, 285, 175, 95, 165, 234, 150, 34, 261, 175, 34, 261, 21, 84, 22, 116, 95, 990, 125, 214, 83, 3182, 34, 156, 141, 456, 94, 586, 1, 21, 84, 22, 200, 83, 4217, 326, 9845, 90, 83, 2535, 95, 1184, 326, 3958, 21, 84, 22, 141, 517, 22991, 130, 254, 384, 95, 175, 34, 379, 21, 84, 22, 1207, 21, 84, 22, 484, 714, 11, 11, 175, 141, 546, 126, 764, 34, 261, 131, 21, 84, 22, 383, 195, 175, 1432, 95, 157, 2845, 100, 397, 11, 11, 21, 84, 22, 1056, 109, 141, 2430, 90, 141, 610, 95, 586, 131, 21, 84, 22, 255, 211, 861, 7, 44, 1432, 262, 255, 861, 3452, 21, 84, 22, 1627, 125, 626, 2462, 268, 94, 379, 90, 348, 21, 84, 22, 923, 1414, 94, 111, 10196, 11, 2316, 3815, 21, 84, 22, 6439, 7, 29, 109, 11395, 6107, 2533, 1568, 21, 84, 22, 83, 11351, 538, 100, 141, 775, 7, 4901, 21, 84, 22, 629, 111, 623, 7, 44, 2690, 935, 339, 1539, 95, 21, 84, 22, 94, 317, 137, 3618, 109, 168, 3666, 1180, 23, 21, 84, 22, 206, 95, 26, 364, 23, 254, 95, 5741, 125, 615, 23, 21, 84, 22, 7528, 125, 271, 90, 94, 141, 885, 34, 7, 251, 1268, 21, 84, 22, 150, 200, 116, 34, 228, 34, 271, 270, 34, 261, 21, 84, 22, 141, 1044, 1166, 126, 101, 681, 100, 397, 21, 84, 22, 383, 94, 179, 777, 101, 6741, 157, 34, 2607, 21, 84, 22, 839, 262, 839, 262, 94, 95, 157, 34, 9196, 21, 84, 22, 40, 2473, 125, 131, 484, 10140, 133, 187, 1537, 21, 84, 22, 94, 1885, 125, 109, 187, 1166, 7, 44, 3028, 100, 994, 1, 21, 84, 22, 44, 17383, 121, 1251, 90, 34, 165, 5019, 1, 21, 84, 22, 4625, 40, 7, 447, 83, 2567, 6248, 187, 2242, 4671, 21, 84, 22, 90, 143, 26, 777, 34, 7, 251, 373, 277, 90, 218, 636, 21, 84, 22, 90, 109, 116, 3491, 13409, 379, 21, 84, 22, 110, 7330, 195, 454, 116, 297, 349, 1059, 94, 699, 1, 21, 84, 22, 231, 279, 108, 856, 108, 3168, 200, 230, 3672, 5, 21, 84, 22, 583, 872, 83, 1435, 116, 34, 157, 2607, 94, 95, 21, 84, 22, 126, 1114, 94, 125, 195, 1207, 21, 84, 22, 90, 109, 83, 2295, 116, 34, 1139, 133, 95, 21, 84, 22, 110, 335, 100, 125, 26, 2761, 1, 214, 1653, 40, 7, 2239, 21, 84, 22, 34, 197, 2119, 83, 1340, 121, 83, 952, 21, 84, 22, 6879, 95, 1434, 133, 125, 545, 94, 148, 577, 21, 84, 22, 34, 165, 4906, 111, 1930, 90, 878, 95, 344, 21, 84, 22, 245, 1207, 100, 4009, 90, 3009, 100, 4009, 241, 83, 9857, 7, 44, 21, 84, 22, 627, 110, 3159, 95, 335, 109, 159, 101, 786, 21, 84, 22, 452, 252, 7, 44, 83, 919, 95, 924, 125, 121, 21, 84, 22, 175, 156, 21, 84, 22, 95, 1657, 83, 3886, 100, 584, 4270, 615, 11, 9738, 23, 21, 84, 22, 1207, 21, 84, 22, 252, 7, 44, 116, 34, 1328, 95, 165, 1346, 277, 192, 21, 84, 22, 1207, 21, 84, 22, 268, 126, 83, 220, 7190, 252, 109, 83, 1580, 23, 21, 84, 22, 332, 149, 111, 1127, 1, 284, 141, 775, 206, 540, 21, 84, 22, 111, 3699, 678, 5087, 133, 83, 583, 1037, 21, 84, 22, 635, 26, 220, 254, 373, 95, 214, 141, 461, 21, 84, 22, 90, 189, 758, 6175, 152, 219, 26, 538, 21, 84, 22, 436, 21, 84, 22, 1207, 21, 84, 22, 339, 315, 283, 2597, 255, 2184, 108, 262, 23, 21, 84, 22, 583, 229, 583, 252, 131, 1109, 168, 713, 753, 21, 84, 22, 34, 379, 145, 445, 168, 837, 21, 84, 22, 175, 206, 95, 307, 116, 95, 157, 951, 152, 23, 21, 84, 22, 1207, 21, 84, 22, 116, 1539, 310, 95, 1254, 1, 273, 306, 110, 591, 21, 84, 22, 1207, 21, 84, 22, 110, 2427, 110, 303, 125, 708, 83, 262, 111, 2994, 21, 84, 22, 175, 919, 126, 149, 23, 175, 4270, 790, 145, 538, 23, 21, 84, 22, 150, 306, 7, 44, 83, 1340, 23, 21, 84, 22, 100, 506, 2962, 3494, 234, 21, 84, 22, 100, 3209, 3706, 6871, 3109, 21, 84, 22, 1802, 94, 708, 116, 1316, 252, 109, 83, 1580, 1, 21, 84, 22, 148, 461, 558, 522, 111, 2367, 214, 496, 413, 21, 84, 22, 3]\n",
      "RAM used: 3276.68 MB\n"
     ]
    },
    {
     "data": {
      "application/vnd.jupyter.widget-view+json": {
       "model_id": "4164063d8b57452eba9aeff7f02a8f31",
       "version_major": 2,
       "version_minor": 0
      },
      "text/plain": [
       "merge and mask:   0%|          | 0/5083 [00:00<?, ? examples/s]"
      ]
     },
     "metadata": {},
     "output_type": "display_data"
    },
    {
     "name": "stdout",
     "output_type": "stream",
     "text": [
      "RAM used: 3298.45 MB\n"
     ]
    },
    {
     "data": {
      "application/vnd.jupyter.widget-view+json": {
       "model_id": "089c6d73f3d14b30b94f18f5b73a411e",
       "version_major": 2,
       "version_minor": 0
      },
      "text/plain": [
       "padding:   0%|          | 0/5083 [00:00<?, ? examples/s]"
      ]
     },
     "metadata": {},
     "output_type": "display_data"
    },
    {
     "name": "stdout",
     "output_type": "stream",
     "text": [
      "Dataset({\n",
      "    features: ['input_id_x', 'input_id_y', 'input_ids', 'input_mask'],\n",
      "    num_rows: 5083\n",
      "}) padded dataset\n",
      "RAM used: 3356.30 MB\n",
      "RAM used: 3323.42 MB\n",
      "### End of reading iteration...\n"
     ]
    },
    {
     "data": {
      "application/vnd.jupyter.widget-view+json": {
       "model_id": "a2d263947e094f1880ccdf56f92c3ec9",
       "version_major": 2,
       "version_minor": 0
      },
      "text/plain": [
       "  0%|          | 0/1000 [00:00<?, ?it/s]"
      ]
     },
     "metadata": {},
     "output_type": "display_data"
    }
   ],
   "source": [
    "word_lst_source, word_lst_recover, word_lst_ref = sampling(model, diffusion, tokenizer, sampling_step=sampling_step, data_dir=data_dir, batch_size=5)"
   ]
  },
  {
   "cell_type": "markdown",
   "id": "8ed69bc0-8481-4287-bd2b-2e3188d1ff22",
   "metadata": {},
   "source": [
    "Generating 20 sentences takes 5 minutes"
   ]
  },
  {
   "cell_type": "code",
   "execution_count": 38,
   "id": "7a7a4756",
   "metadata": {},
   "outputs": [
    {
     "data": {
      "text/plain": [
       "['[CLS] proceed solinus to procure my fall < eos > and by the doom of death end woes and all < eos > therefore give out you are of epidamnum < eos > lest that your goods too soon be confiscate < eos > this very day a syracusian merchant < eos > is apprehended for arrival here < eos > and [SEP] [SEP]',\n",
       " '[CLS] merchant of syracuse plead no more < eos > i am not partial to infringe our laws [UNK] < eos > the enmity and discord which of late < eos > sprung from the rancorous outrage of your duke < eos > to merchants our well - deal countrymen < eos > who want guilders to redeem their lives < eos [SEP] [SEP]',\n",
       " '[CLS] yet this my comfort [UNK] when your words are done < eos > my woes end likewise with the even sun < eos > many a man would take you at your word < eos > and go indeed hav so good a mean < eos > exit < eos > antipholus < eos > why should their liberty than ours [SEP] [SEP]',\n",
       " \"[CLS] well syracusian say in brief the cause < eos > why thou departed'st from thy native home < eos > and for what cause thou camest to ephesus < eos > a trusty villain sir that very oft < eos > when i am dull with care and melancholy < eos > lightens my humour with his merry jests [SEP] [SEP]\",\n",
       " \"[CLS] a heavier task could not have been imposed < eos > than i to speak my griefs unspeakable [UNK] < eos > yet that the world may witness that my end < eos > was wrought by nature not by vile offence < eos > i'll utter what my sorrows give me leave < eos > in syracusa was [SEP] [SEP]\"]"
      ]
     },
     "execution_count": 38,
     "metadata": {},
     "output_type": "execute_result"
    }
   ],
   "source": [
    "word_lst_source"
   ]
  },
  {
   "cell_type": "code",
   "execution_count": 39,
   "id": "d9184761",
   "metadata": {},
   "outputs": [
    {
     "data": {
      "text/plain": [
       "['eos eos < < [PAD] > < spied < > > > i disheartens < < [PAD] < eos [PAD] < < eos < sociable beagle [PAD] < eos > < eos < eos justly scales < < > < justly < eos sociable i [PAD] spied justly < eos eos > spied < eos > > i < > < < < stre',\n",
       " '< > i [PAD] [PAD] lewdly eos < [PAD] sociable > > < subscribed justly [PAD] > < eos < i eos eos < spied < < < [PAD] eos eos < < < i eos < < < eos < spied lewdly sociable < < < < < < < > < < > [PAD] justly eos < eos > sociable',\n",
       " 'lewdly eos < scales eos [PAD] < justly eos [PAD] sociable >urday spied > < [PAD] < < subscribed < < rasher eos < < > i [PAD] < < eos eos eos justly > < < < > < > le sociable < < < beagle < > < eos eos < eosurday lewdly < spied eos < justly > i',\n",
       " '< < stre > eos [PAD] < < < sociable > < > < < < eos < < eos sociable < > < lewdly < i scales eos > > < < > eos and < i eos i > < eos eos > < < < eos eos < > < eos < < [PAD] and spied < eos sociable < i',\n",
       " '##ends < i justly < > > < > justly eos < eos < < [PAD] < [PAD]ends [PAD] [PAD] > < sociable > < i < [PAD] [PAD] < eos [PAD] morurday < justly eos < eos < stre i eos eos < < < > [PAD] [PAD] i scales eos < i [PAD]urday < < < < < <']"
      ]
     },
     "execution_count": 39,
     "metadata": {},
     "output_type": "execute_result"
    }
   ],
   "source": [
    "word_lst_recover"
   ]
  },
  {
   "cell_type": "code",
   "execution_count": 40,
   "id": "170fa620",
   "metadata": {},
   "outputs": [
    {
     "data": {
      "text/plain": [
       "[\"[CLS] well syracusian say in brief the cause < eos > why thou departed'st from thy native home < eos > and for what cause thou camest to ephesus < eos > a trusty villain sir that very oft < eos > when i am dull with care and melancholy < eos > lightens my humour with his merry jests [SEP]\",\n",
       " \"[CLS] a heavier task could not have been imposed < eos > than i to speak my griefs unspeakable [UNK] < eos > yet that the world may witness that my end < eos > was wrought by nature not by vile offence < eos > i'll utter what my sorrows give me leave < eos > in syracusa was [SEP]\",\n",
       " \"[CLS] nay forward old man don't break off so < eos > for we may pity though not pardon thee < eos > farewell till then [UNK] i will go lose myself < eos > and wander up and down to view the city < eos > o know he is the bridle of your will < eos > i am [SEP]\",\n",
       " \"[CLS] o had the gods done so i had not now < eos > worthily term'd them merciless to us! < eos > for ere the ships could meet by twice five leagues < eos > we were encounterd by a mighty rock < eos > which be violently borne upon < eos > our helpful ship was splitted [SEP]\",\n",
       " \"[CLS] and for the sake of them thou sorrowest for < eos > do me the favour to dilate at full < eos > what hath befall'n of them and thee till now < eos > he that commends me to mine own content < eos > commends me to the th i cannot get < eos > i to [SEP]\"]"
      ]
     },
     "execution_count": 40,
     "metadata": {},
     "output_type": "execute_result"
    }
   ],
   "source": [
    "word_lst_ref"
   ]
  },
  {
   "cell_type": "code",
   "execution_count": null,
   "id": "c50602c5-16a5-4190-865a-9949394408fd",
   "metadata": {},
   "outputs": [],
   "source": []
  }
 ],
 "metadata": {
  "kernelspec": {
   "display_name": "venv",
   "language": "python",
   "name": "venv"
  },
  "language_info": {
   "codemirror_mode": {
    "name": "ipython",
    "version": 3
   },
   "file_extension": ".py",
   "mimetype": "text/x-python",
   "name": "python",
   "nbconvert_exporter": "python",
   "pygments_lexer": "ipython3",
   "version": "3.9.5"
  }
 },
 "nbformat": 4,
 "nbformat_minor": 5
}
