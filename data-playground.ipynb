{
 "cells": [
  {
   "cell_type": "code",
   "execution_count": null,
   "id": "10efb8cf",
   "metadata": {},
   "outputs": [],
   "source": [
    "import pandas as pd\n",
    "import numpy as np\n",
    "import pickle"
   ]
  },
  {
   "cell_type": "code",
   "execution_count": null,
   "id": "8eae23cd",
   "metadata": {},
   "outputs": [],
   "source": [
    "df = pd.read_csv('data/source/shakespeare.csv')"
   ]
  },
  {
   "cell_type": "code",
   "execution_count": null,
   "id": "e0651c26",
   "metadata": {},
   "outputs": [],
   "source": [
    "remove = df[(df['Player'].notna()) & (df[\"PlayerLine\"]!='Exeunt')]"
   ]
  },
  {
   "cell_type": "code",
   "execution_count": null,
   "id": "70a2de6a",
   "metadata": {},
   "outputs": [],
   "source": [
    "data = remove[['ActSceneLine', \"Player\", \"PlayerLine\"]]\n",
    "data"
   ]
  },
  {
   "cell_type": "code",
   "execution_count": null,
   "id": "75565b17",
   "metadata": {},
   "outputs": [],
   "source": [
    "class Data_Creator:\n",
    "    def __init__(self, data):\n",
    "        #data = pd.read_csv(filepath)\n",
    "        data = self.clean(data)\n",
    "        self.tokenized_df = self.tokenize(data)\n",
    "        \n",
    "\n",
    "    def tokenize(self, df):\n",
    "        data = df['text'].apply(lambda x: x.strip().lower().split())\n",
    "        tokenized = df.assign(PlayerLine = data)\n",
    "        return tokenized\n",
    "    \n",
    "    def clean(self, data):\n",
    "        \n",
    "        repl = {'@\\w*': ' ', '&amp;' : 'and','\\su\\s':' you ', '&#\\w*;': ' ', \n",
    "        '#':' ', '\\s2\\s': 'two', \"ð[^ ]*\": ' ' ,\n",
    "        \"â[^ ]*\": ' ',\"(dont)|(don't)\": 'do not', \"(cant)|(can't)\": \"can not\",\n",
    "        \"(yous)|(you's)\": \"you is\", \"(yous)|(you's)\": \"you is\", \n",
    "        \"(youve)|(you've)\": \"you have\", \"(doesnt)|(doesn't)\": 'does not', \n",
    "        \"(wont)|(won't)\": 'will not', \"[0-9]+\\.*[0-9%]+\\w*\" : \"NUMBER\",'\\\\n\\.':' ' ,'\\\\n':' ',\n",
    "        \"\\.{2,}\": '.', \"!{2,}\":'!', \"\\?{2,}\":'?', 'ing[^a-z]':' ', 'ed[^a-z]': ' ', '_':\" \",\n",
    "        ' +': ' ', ',':'', '\\\\.':' <EOS>'}\n",
    "\n",
    "        cleaned_tweet = data['PlayerLine'].str.lower()\n",
    "        cleaned_tweet = cleaned_tweet.replace(repl, regex=True)\n",
    "        cleaned = data.assign(text = cleaned_tweet)\n",
    "        return cleaned\n",
    "    \n",
    "class vocab_builder:\n",
    "    def __init__(self, tokenized_df):\n",
    "        self.longest= 0\n",
    "        self.idx_word= {}\n",
    "        self.word_idx = {}\n",
    "        self.tracker = {}\n",
    "        tokenized_df['PlayerLine'].apply(vocab_builder.vocab_gen, args=(self,))\n",
    "        self.word_idx['<PAD>'] = len(self.word_idx)\n",
    "        self.idx_word[len(self.idx_word)] = '<PAD>'\n",
    "        self.word_idx['<UNK>'] = len(self.word_idx)\n",
    "        self.idx_word[len(self.idx_word)] = '<UNK>'\n",
    "        self.word_idx['<EOS>'] = len(self.word_idx)\n",
    "        self.idx_word[len(self.idx_word)] = '<EOS>'\n",
    "        \n",
    "    def vocab_gen(sentence, self):\n",
    "        count = 0 \n",
    "        for word in sentence:\n",
    "            count +=1\n",
    "            if word not in self.word_idx:\n",
    "                self.tracker[word] = 1\n",
    "                self.word_idx[word] = len(self.word_idx)\n",
    "                self.idx_word[len(self.idx_word)] = word\n",
    "            else:\n",
    "                self.tracker[word] += 1\n",
    "        if self.longest < count:\n",
    "            self.longest = count\n",
    "        return "
   ]
  },
  {
   "cell_type": "code",
   "execution_count": null,
   "id": "6861b694",
   "metadata": {},
   "outputs": [],
   "source": [
    "created = Data_Creator(data)\n",
    "vocab = vocab_builder(created.tokenized_df)"
   ]
  },
  {
   "cell_type": "code",
   "execution_count": null,
   "id": "a99293d2",
   "metadata": {},
   "outputs": [],
   "source": [
    "created.tokenized_df"
   ]
  },
  {
   "cell_type": "code",
   "execution_count": null,
   "id": "db13ba3f",
   "metadata": {},
   "outputs": [],
   "source": [
    "info = created.tokenized_df['text']\n",
    "info.iloc[0]"
   ]
  },
  {
   "cell_type": "code",
   "execution_count": null,
   "id": "80502a7f",
   "metadata": {},
   "outputs": [],
   "source": [
    "len(info)"
   ]
  },
  {
   "cell_type": "code",
   "execution_count": null,
   "id": "c3a92dbe",
   "metadata": {},
   "outputs": [],
   "source": [
    "train_data = []\n",
    "info = created.tokenized_df['text']\n",
    "for i in range(len(info)-1):\n",
    "    dictionary = {}\n",
    "    dictionary[\"src\"] = info.iloc[i]\n",
    "    dictionary[\"trg\"] = info.iloc[i+1]\n",
    "    train_data.append(dictionary)"
   ]
  },
  {
   "cell_type": "code",
   "execution_count": null,
   "id": "0cfb20a1",
   "metadata": {},
   "outputs": [],
   "source": [
    "import json\n",
    "\n",
    "with open('output.jsonl', 'w') as outfile:\n",
    "    for entry in train_data:\n",
    "        json.dump(entry, outfile)\n",
    "        outfile.write('\\n')"
   ]
  },
  {
   "cell_type": "code",
   "execution_count": null,
   "id": "d2ca5c47",
   "metadata": {},
   "outputs": [],
   "source": [
    "vocab.idx_word"
   ]
  },
  {
   "cell_type": "code",
   "execution_count": null,
   "id": "c0fca794",
   "metadata": {},
   "outputs": [],
   "source": [
    "vocab.idx_word.values()"
   ]
  },
  {
   "cell_type": "code",
   "execution_count": null,
   "id": "8dd68604",
   "metadata": {},
   "outputs": [],
   "source": [
    "with open('vocab_list.pickle', 'wb') as handle:\n",
    "    pickle.dump(vocab.idx_word, handle)"
   ]
  },
  {
   "cell_type": "code",
   "execution_count": null,
   "id": "b3dffb35",
   "metadata": {},
   "outputs": [],
   "source": []
  }
 ],
 "metadata": {
  "kernelspec": {
   "display_name": "Python 3 (clean)",
   "language": "python",
   "name": "python3_clean"
  },
  "language_info": {
   "codemirror_mode": {
    "name": "ipython",
    "version": 3
   },
   "file_extension": ".py",
   "mimetype": "text/x-python",
   "name": "python",
   "nbconvert_exporter": "python",
   "pygments_lexer": "ipython3",
   "version": "3.9.5"
  }
 },
 "nbformat": 4,
 "nbformat_minor": 5
}
